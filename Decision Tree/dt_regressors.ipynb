{
 "cells": [
  {
   "cell_type": "markdown",
   "metadata": {},
   "source": [
    "# Building Decision Tree regressors"
   ]
  },
  {
   "cell_type": "markdown",
   "metadata": {},
   "source": [
    "In the case of a regressor, if at leaf node, we have 3 values say, 8, 10, 12. During testing, if an instance lands on this leaf node, regressor will predict its value to be the mean of 3 values, here 10 (when mse is used as spitting criterion)."
   ]
  },
  {
   "cell_type": "markdown",
   "metadata": {},
   "source": [
    "For each possible split at training time, the tree calculates either __MEAN_SQUARED_ERROR__ (L2) OR __MEAN_ABSOLUTE_ERROR__ (L1) for each of the expected sub groups after the split. A split with minimum L1 or L2 is then chosen at this step. \n",
    "\n",
    "Note : L1 uses median and L2 uses mean in its calculations. L1 is better in dealing with outliers as it uses median. "
   ]
  },
  {
   "cell_type": "markdown",
   "metadata": {
    "vscode": {
     "languageId": "plaintext"
    }
   },
   "source": [
    "## Regressor Evaluation"
   ]
  },
  {
   "cell_type": "markdown",
   "metadata": {},
   "source": [
    "__MSE__ as well as __MAE__ can be used to evaluate a regressor's accuracy. If your aim is to reduce the error of your predictions based on a certain metric, it is advised to use the same metric when growing your tree at the time of training."
   ]
  },
  {
   "cell_type": "markdown",
   "metadata": {},
   "source": [
    "## Setting sample weights"
   ]
  },
  {
   "cell_type": "markdown",
   "metadata": {},
   "source": [
    "By default, all samples are given the same weight. Weighting individual samples differently is useful when dealing with imbalanced business decisions."
   ]
  },
  {
   "cell_type": "markdown",
   "metadata": {},
   "source": [
    " # Summary"
   ]
  },
  {
   "cell_type": "markdown",
   "metadata": {},
   "source": [
    "The two main decisions you need to make when training a decision tree are your __splitting_criterion__ and how to control the __growth__ of your tree to have a balance between overfitting and underfitting."
   ]
  },
  {
   "cell_type": "markdown",
   "metadata": {},
   "source": []
  }
 ],
 "metadata": {
  "language_info": {
   "name": "python"
  }
 },
 "nbformat": 4,
 "nbformat_minor": 2
}
