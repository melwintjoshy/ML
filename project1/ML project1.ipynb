{
 "cells": [
  {
   "cell_type": "code",
   "execution_count": 18,
   "id": "a5fbae33",
   "metadata": {},
   "outputs": [
    {
     "name": "stdout",
     "output_type": "stream",
     "text": [
      "Note: you may need to restart the kernel to use updated packages.\n"
     ]
    }
   ],
   "source": [
    "pip install -Uq upgini catboost"
   ]
  },
  {
   "cell_type": "code",
   "execution_count": 19,
   "id": "d45970ca",
   "metadata": {},
   "outputs": [],
   "source": [
    "import pandas as pd"
   ]
  },
  {
   "cell_type": "code",
   "execution_count": 20,
   "id": "e798139e",
   "metadata": {},
   "outputs": [],
   "source": [
    "df = pd.read_csv(r\"C:\\Users\\melwi\\Desktop\\ML\\project1\\train.csv\")\n",
    "df = df.sample(n = 12000, random_state=0)"
   ]
  },
  {
   "cell_type": "code",
   "execution_count": 21,
   "id": "b037ce5d",
   "metadata": {},
   "outputs": [
    {
     "data": {
      "text/html": [
       "<div>\n",
       "<style scoped>\n",
       "    .dataframe tbody tr th:only-of-type {\n",
       "        vertical-align: middle;\n",
       "    }\n",
       "\n",
       "    .dataframe tbody tr th {\n",
       "        vertical-align: top;\n",
       "    }\n",
       "\n",
       "    .dataframe thead th {\n",
       "        text-align: right;\n",
       "    }\n",
       "</style>\n",
       "<table border=\"1\" class=\"dataframe\">\n",
       "  <thead>\n",
       "    <tr style=\"text-align: right;\">\n",
       "      <th></th>\n",
       "      <th>date</th>\n",
       "      <th>store</th>\n",
       "      <th>item</th>\n",
       "      <th>sales</th>\n",
       "    </tr>\n",
       "  </thead>\n",
       "  <tbody>\n",
       "    <tr>\n",
       "      <th>335813</th>\n",
       "      <td>2017-07-14</td>\n",
       "      <td>4</td>\n",
       "      <td>19</td>\n",
       "      <td>56</td>\n",
       "    </tr>\n",
       "    <tr>\n",
       "      <th>630838</th>\n",
       "      <td>2015-05-19</td>\n",
       "      <td>6</td>\n",
       "      <td>35</td>\n",
       "      <td>45</td>\n",
       "    </tr>\n",
       "    <tr>\n",
       "      <th>365685</th>\n",
       "      <td>2014-05-01</td>\n",
       "      <td>1</td>\n",
       "      <td>21</td>\n",
       "      <td>48</td>\n",
       "    </tr>\n",
       "    <tr>\n",
       "      <th>322781</th>\n",
       "      <td>2016-11-06</td>\n",
       "      <td>7</td>\n",
       "      <td>18</td>\n",
       "      <td>85</td>\n",
       "    </tr>\n",
       "    <tr>\n",
       "      <th>151590</th>\n",
       "      <td>2013-02-02</td>\n",
       "      <td>4</td>\n",
       "      <td>9</td>\n",
       "      <td>46</td>\n",
       "    </tr>\n",
       "    <tr>\n",
       "      <th>572011</th>\n",
       "      <td>2014-04-19</td>\n",
       "      <td>4</td>\n",
       "      <td>32</td>\n",
       "      <td>39</td>\n",
       "    </tr>\n",
       "    <tr>\n",
       "      <th>786135</th>\n",
       "      <td>2015-08-14</td>\n",
       "      <td>1</td>\n",
       "      <td>44</td>\n",
       "      <td>34</td>\n",
       "    </tr>\n",
       "    <tr>\n",
       "      <th>611462</th>\n",
       "      <td>2017-04-28</td>\n",
       "      <td>5</td>\n",
       "      <td>34</td>\n",
       "      <td>21</td>\n",
       "    </tr>\n",
       "    <tr>\n",
       "      <th>563327</th>\n",
       "      <td>2015-07-09</td>\n",
       "      <td>9</td>\n",
       "      <td>31</td>\n",
       "      <td>76</td>\n",
       "    </tr>\n",
       "    <tr>\n",
       "      <th>820691</th>\n",
       "      <td>2015-03-29</td>\n",
       "      <td>10</td>\n",
       "      <td>45</td>\n",
       "      <td>98</td>\n",
       "    </tr>\n",
       "    <tr>\n",
       "      <th>745657</th>\n",
       "      <td>2014-10-12</td>\n",
       "      <td>9</td>\n",
       "      <td>41</td>\n",
       "      <td>26</td>\n",
       "    </tr>\n",
       "    <tr>\n",
       "      <th>515643</th>\n",
       "      <td>2014-12-13</td>\n",
       "      <td>3</td>\n",
       "      <td>29</td>\n",
       "      <td>78</td>\n",
       "    </tr>\n",
       "    <tr>\n",
       "      <th>458755</th>\n",
       "      <td>2014-03-06</td>\n",
       "      <td>2</td>\n",
       "      <td>26</td>\n",
       "      <td>59</td>\n",
       "    </tr>\n",
       "    <tr>\n",
       "      <th>49354</th>\n",
       "      <td>2013-02-22</td>\n",
       "      <td>8</td>\n",
       "      <td>3</td>\n",
       "      <td>31</td>\n",
       "    </tr>\n",
       "    <tr>\n",
       "      <th>871604</th>\n",
       "      <td>2014-08-26</td>\n",
       "      <td>8</td>\n",
       "      <td>48</td>\n",
       "      <td>53</td>\n",
       "    </tr>\n",
       "    <tr>\n",
       "      <th>807668</th>\n",
       "      <td>2014-07-31</td>\n",
       "      <td>3</td>\n",
       "      <td>45</td>\n",
       "      <td>106</td>\n",
       "    </tr>\n",
       "    <tr>\n",
       "      <th>310696</th>\n",
       "      <td>2013-10-04</td>\n",
       "      <td>1</td>\n",
       "      <td>18</td>\n",
       "      <td>52</td>\n",
       "    </tr>\n",
       "    <tr>\n",
       "      <th>488934</th>\n",
       "      <td>2016-10-24</td>\n",
       "      <td>8</td>\n",
       "      <td>27</td>\n",
       "      <td>27</td>\n",
       "    </tr>\n",
       "    <tr>\n",
       "      <th>153731</th>\n",
       "      <td>2013-12-14</td>\n",
       "      <td>5</td>\n",
       "      <td>9</td>\n",
       "      <td>25</td>\n",
       "    </tr>\n",
       "    <tr>\n",
       "      <th>622887</th>\n",
       "      <td>2013-08-10</td>\n",
       "      <td>2</td>\n",
       "      <td>35</td>\n",
       "      <td>84</td>\n",
       "    </tr>\n",
       "  </tbody>\n",
       "</table>\n",
       "</div>"
      ],
      "text/plain": [
       "              date  store  item  sales\n",
       "335813  2017-07-14      4    19     56\n",
       "630838  2015-05-19      6    35     45\n",
       "365685  2014-05-01      1    21     48\n",
       "322781  2016-11-06      7    18     85\n",
       "151590  2013-02-02      4     9     46\n",
       "572011  2014-04-19      4    32     39\n",
       "786135  2015-08-14      1    44     34\n",
       "611462  2017-04-28      5    34     21\n",
       "563327  2015-07-09      9    31     76\n",
       "820691  2015-03-29     10    45     98\n",
       "745657  2014-10-12      9    41     26\n",
       "515643  2014-12-13      3    29     78\n",
       "458755  2014-03-06      2    26     59\n",
       "49354   2013-02-22      8     3     31\n",
       "871604  2014-08-26      8    48     53\n",
       "807668  2014-07-31      3    45    106\n",
       "310696  2013-10-04      1    18     52\n",
       "488934  2016-10-24      8    27     27\n",
       "153731  2013-12-14      5     9     25\n",
       "622887  2013-08-10      2    35     84"
      ]
     },
     "execution_count": 21,
     "metadata": {},
     "output_type": "execute_result"
    }
   ],
   "source": [
    "df.head(20)"
   ]
  },
  {
   "cell_type": "code",
   "execution_count": 22,
   "id": "603ba406",
   "metadata": {},
   "outputs": [
    {
     "name": "stdout",
     "output_type": "stream",
     "text": [
      "<class 'pandas.core.frame.DataFrame'>\n",
      "Int64Index: 12000 entries, 335813 to 811189\n",
      "Data columns (total 4 columns):\n",
      " #   Column  Non-Null Count  Dtype \n",
      "---  ------  --------------  ----- \n",
      " 0   date    12000 non-null  object\n",
      " 1   store   12000 non-null  int64 \n",
      " 2   item    12000 non-null  int64 \n",
      " 3   sales   12000 non-null  int64 \n",
      "dtypes: int64(3), object(1)\n",
      "memory usage: 468.8+ KB\n"
     ]
    }
   ],
   "source": [
    "df.info()"
   ]
  },
  {
   "cell_type": "code",
   "execution_count": 23,
   "id": "5f727275",
   "metadata": {},
   "outputs": [],
   "source": [
    "df[\"store\"] = df[\"store\"].astype(str)\n",
    "df[\"item\"] = df[\"item\"].astype(str)\n",
    "\n",
    "df['date'] = pd.to_datetime(df['date'])\n",
    "\n",
    "df.sort_values(\"date\", inplace = True)\n",
    "df.reset_index(inplace = True, drop = True)\n"
   ]
  },
  {
   "cell_type": "code",
   "execution_count": 24,
   "id": "ea5806f8",
   "metadata": {},
   "outputs": [
    {
     "data": {
      "text/html": [
       "<div>\n",
       "<style scoped>\n",
       "    .dataframe tbody tr th:only-of-type {\n",
       "        vertical-align: middle;\n",
       "    }\n",
       "\n",
       "    .dataframe tbody tr th {\n",
       "        vertical-align: top;\n",
       "    }\n",
       "\n",
       "    .dataframe thead th {\n",
       "        text-align: right;\n",
       "    }\n",
       "</style>\n",
       "<table border=\"1\" class=\"dataframe\">\n",
       "  <thead>\n",
       "    <tr style=\"text-align: right;\">\n",
       "      <th></th>\n",
       "      <th>date</th>\n",
       "      <th>store</th>\n",
       "      <th>item</th>\n",
       "      <th>sales</th>\n",
       "    </tr>\n",
       "  </thead>\n",
       "  <tbody>\n",
       "    <tr>\n",
       "      <th>0</th>\n",
       "      <td>2013-01-01</td>\n",
       "      <td>2</td>\n",
       "      <td>3</td>\n",
       "      <td>19</td>\n",
       "    </tr>\n",
       "    <tr>\n",
       "      <th>1</th>\n",
       "      <td>2013-01-01</td>\n",
       "      <td>7</td>\n",
       "      <td>5</td>\n",
       "      <td>5</td>\n",
       "    </tr>\n",
       "    <tr>\n",
       "      <th>2</th>\n",
       "      <td>2013-01-01</td>\n",
       "      <td>10</td>\n",
       "      <td>21</td>\n",
       "      <td>33</td>\n",
       "    </tr>\n",
       "    <tr>\n",
       "      <th>3</th>\n",
       "      <td>2013-01-01</td>\n",
       "      <td>3</td>\n",
       "      <td>27</td>\n",
       "      <td>11</td>\n",
       "    </tr>\n",
       "    <tr>\n",
       "      <th>4</th>\n",
       "      <td>2013-01-01</td>\n",
       "      <td>4</td>\n",
       "      <td>9</td>\n",
       "      <td>19</td>\n",
       "    </tr>\n",
       "  </tbody>\n",
       "</table>\n",
       "</div>"
      ],
      "text/plain": [
       "        date store item  sales\n",
       "0 2013-01-01     2    3     19\n",
       "1 2013-01-01     7    5      5\n",
       "2 2013-01-01    10   21     33\n",
       "3 2013-01-01     3   27     11\n",
       "4 2013-01-01     4    9     19"
      ]
     },
     "execution_count": 24,
     "metadata": {},
     "output_type": "execute_result"
    }
   ],
   "source": [
    "df.head()"
   ]
  },
  {
   "cell_type": "code",
   "execution_count": 25,
   "id": "8aa3fc88",
   "metadata": {},
   "outputs": [],
   "source": [
    "train = df[df['date'] < \"2017-01-01\"]\n",
    "test = df[df['date'] >= \"2017-01-01\"]"
   ]
  },
  {
   "cell_type": "code",
   "execution_count": 26,
   "id": "5586dc02",
   "metadata": {},
   "outputs": [],
   "source": [
    "train_features = train.drop(columns = ['sales'])\n",
    "train_target = train['sales']"
   ]
  },
  {
   "cell_type": "code",
   "execution_count": 27,
   "id": "2fcdb084",
   "metadata": {},
   "outputs": [],
   "source": [
    "test_features = test.drop(columns = ['sales'])\n",
    "test_target = test['sales']"
   ]
  },
  {
   "cell_type": "code",
   "execution_count": 28,
   "id": "56793b39",
   "metadata": {},
   "outputs": [
    {
     "name": "stdout",
     "output_type": "stream",
     "text": [
      "<class 'pandas.core.frame.DataFrame'>\n",
      "Int64Index: 2422 entries, 9578 to 11999\n",
      "Data columns (total 3 columns):\n",
      " #   Column  Non-Null Count  Dtype         \n",
      "---  ------  --------------  -----         \n",
      " 0   date    2422 non-null   datetime64[ns]\n",
      " 1   store   2422 non-null   object        \n",
      " 2   item    2422 non-null   object        \n",
      "dtypes: datetime64[ns](1), object(2)\n",
      "memory usage: 75.7+ KB\n"
     ]
    }
   ],
   "source": [
    "test_features.info()"
   ]
  },
  {
   "cell_type": "code",
   "execution_count": 29,
   "id": "472edce7",
   "metadata": {},
   "outputs": [
    {
     "data": {
      "text/plain": [
       "0       19\n",
       "1        5\n",
       "2       33\n",
       "3       11\n",
       "4       19\n",
       "        ..\n",
       "9573    43\n",
       "9574    78\n",
       "9575    21\n",
       "9576    52\n",
       "9577    17\n",
       "Name: sales, Length: 9578, dtype: int64"
      ]
     },
     "execution_count": 29,
     "metadata": {},
     "output_type": "execute_result"
    }
   ],
   "source": [
    "train_target"
   ]
  },
  {
   "cell_type": "markdown",
   "id": "f8813282",
   "metadata": {},
   "source": [
    "Enrich feature using upgini"
   ]
  },
  {
   "cell_type": "code",
   "execution_count": 30,
   "id": "4011f33f",
   "metadata": {},
   "outputs": [
    {
     "data": {
      "text/html": [
       "<progress style='width:60ex' max='100' value='100'></progress>  100% Finished</br>"
      ],
      "text/plain": [
       "[============================================================] 100% Finished"
      ]
     },
     "metadata": {},
     "output_type": "display_data"
    },
    {
     "name": "stdout",
     "output_type": "stream",
     "text": [
      "WARNING #1: Search started with DATE search key only\n",
      "Try to add other keys like the COUNTRY, POSTAL_CODE, PHONE NUMBER, EMAIL/HEM, IP to your training dataset\n",
      "for search through all the available data sources.\n",
      "See docs https://github.com/upgini/upgini#-total-239-countries-and-up-to-41-years-of-history\n",
      "\n",
      "Detected task type: ModelTaskType.REGRESSION. Reason: date search key is present, treating as regression\n",
      "You can set task type manually with argument `model_task_type` of FeaturesEnricher constructor if task type detected incorrectly\n",
      "\n",
      "WARNING #2: Your training sample is unstable in number of rows per date. It is recommended to redesign the training sample\n",
      "\n",
      "\n"
     ]
    },
    {
     "data": {
      "text/html": [
       "<table><tr><th style='font-weight:bold'>Column name</th><th style='font-weight:bold'>Status</th><th style='font-weight:bold'>Errors</th></tr><tr><td>date</td><td style='background-color:#DAF7A6;color:black'>All valid</td><td>-</td></tr><tr><td>target</td><td style='background-color:#DAF7A6;color:black'>All valid</td><td>-</td></tr></table>"
      ],
      "text/plain": [
       "<IPython.core.display.HTML object>"
      ]
     },
     "metadata": {},
     "output_type": "display_data"
    },
    {
     "name": "stdout",
     "output_type": "stream",
     "text": [
      "\n",
      "Running search request, search_id=f9b437f4-91e1-4b1f-9e25-ddf4312fa107\n",
      "We'll send email notification once it's completed, just use your personal api_key from profile.upgini.com\n",
      "-\n",
      "\u001b[92m\u001b[1m\n",
      "39 relevant feature(s) found with the search keys: ['date']\u001b[0m\n"
     ]
    },
    {
     "data": {
      "text/html": [
       "<style>\n",
       "            .upgini-df thead th {\n",
       "                font-weight:bold;\n",
       "                text-align: center;\n",
       "                padding: 0.5em;\n",
       "                border-bottom: 2px solid black;\n",
       "            }\n",
       "\n",
       "            .upgini-df tbody td {\n",
       "                padding: 0.5em;\n",
       "            }\n",
       "\n",
       "            .upgini-df tbody tr:nth-child(odd) {\n",
       "                background-color: #ffffff;\n",
       "            }\n",
       "\n",
       "            .upgini-df tbody tr:nth-child(even) {\n",
       "                background-color: #f2f2f2;\n",
       "            }\n",
       "\n",
       "            .upgini-text {\n",
       "                text-align: left;\n",
       "            }\n",
       "\n",
       "            .upgini-number {\n",
       "                text-align: center;\n",
       "            }\n",
       "        </style>\n",
       "        <h2>Relevant features</h2>\n",
       "        <div style=\"display:flex; flex-direction:column; align-items:flex-end; width: fit-content;\">\n",
       "            \n",
       "            <div style=\"text-align: right\">\n",
       "                <button onclick=navigator.clipboard.writeText(decodeURI('Feature%20name%09SHAP%20value%09Coverage%20%25%09Value%20preview%09Provider%09Source%09Updates%0D%0Af_autofe_div_0a5adf97%091.1183%09100.0%090.1574,%200.1517,%20-0.3505%09Upgini%09AutoFE%3A%20features%20from%20%3Ca%20href%3D%27https%3A%2F%2Fupgini.com%2F%23data_sources%27%20target%3D%27_blank%27%20rel%3D%27noopener%20noreferrer%27%3ECalendar%20data%3C%2Fa%3E,%3Ca%20href%3D%27https%3A%2F%2Fupgini.com%2F%23data_sources%27%20target%3D%27_blank%27%20rel%3D%27noopener%20noreferrer%27%3EMarkets%20data%3C%2Fa%3E%09Daily%0D%0Af_autofe_div_536f8702%091.1164%09100.0%090.8846,%20-0.6879,%20-0.4568%09Upgini%09AutoFE%3A%20features%20from%20%3Ca%20href%3D%27https%3A%2F%2Fupgini.com%2F%23data_sources%27%20target%3D%27_blank%27%20rel%3D%27noopener%20noreferrer%27%3ECalendar%20data%3C%2Fa%3E,%3Ca%20href%3D%27https%3A%2F%2Fupgini.com%2F%23data_sources%27%20target%3D%27_blank%27%20rel%3D%27noopener%20noreferrer%27%3EMarkets%20data%3C%2Fa%3E%09Daily%0D%0Af_autofe_mul_efd66bbe%091.0686%09100.0%090.6131,%200.1437,%200.927%09Upgini%09AutoFE%3A%20features%20from%20%3Ca%20href%3D%27https%3A%2F%2Fupgini.com%2F%23data_sources%27%20target%3D%27_blank%27%20rel%3D%27noopener%20noreferrer%27%3ECalendar%20data%3C%2Fa%3E,%3Ca%20href%3D%27https%3A%2F%2Fupgini.com%2F%23data_sources%27%20target%3D%27_blank%27%20rel%3D%27noopener%20noreferrer%27%3EMarkets%20data%3C%2Fa%3E%09Daily%0D%0Af_autofe_div_1edd5009%091.0472%09100.0%090.005,%200.0419,%200.0449%09Upgini%09AutoFE%3A%20features%20from%20%3Ca%20href%3D%27https%3A%2F%2Fupgini.com%2F%23data_sources%27%20target%3D%27_blank%27%20rel%3D%27noopener%20noreferrer%27%3ECalendar%20data%3C%2Fa%3E,%3Ca%20href%3D%27https%3A%2F%2Fupgini.com%2F%23data_sources%27%20target%3D%27_blank%27%20rel%3D%27noopener%20noreferrer%27%3EMarkets%20data%3C%2Fa%3E%09Daily%0D%0Af_autofe_mul_34d11bc4%090.9956%09100.0%0915.1954,%206.5588,%205.1134%09Upgini%09AutoFE%3A%20features%20from%20%3Ca%20href%3D%27https%3A%2F%2Fupgini.com%2F%23data_sources%27%20target%3D%27_blank%27%20rel%3D%27noopener%20noreferrer%27%3ECalendar%20data%3C%2Fa%3E,%3Ca%20href%3D%27https%3A%2F%2Fupgini.com%2F%23data_sources%27%20target%3D%27_blank%27%20rel%3D%27noopener%20noreferrer%27%3EMarkets%20data%3C%2Fa%3E%09Daily%0D%0Af_events_date_year_cos1_9014a856%090.9359%09100.0%09-0.805,%20-0.5197,%200.0559%09Upgini%09Calendar%20data%09Daily%0D%0Af_autofe_div_cbf285e0%090.7026%09100.0%090.4262,%20-0.8299,%20-1.099%09Upgini%09AutoFE%3A%20features%20from%20%3Ca%20href%3D%27https%3A%2F%2Fupgini.com%2F%23data_sources%27%20target%3D%27_blank%27%20rel%3D%27noopener%20noreferrer%27%3ECalendar%20data%3C%2Fa%3E,%3Ca%20href%3D%27https%3A%2F%2Fupgini.com%2F%23data_sources%27%20target%3D%27_blank%27%20rel%3D%27noopener%20noreferrer%27%3EMarkets%20data%3C%2Fa%3E%09Daily%0D%0Af_autofe_mul_25296268%090.6455%09100.0%090.611,%200.7963,%20-0.818%09Upgini%09AutoFE%3A%20features%20from%20%3Ca%20href%3D%27https%3A%2F%2Fupgini.com%2F%23data_sources%27%20target%3D%27_blank%27%20rel%3D%27noopener%20noreferrer%27%3ECalendar%20data%3C%2Fa%3E,%3Ca%20href%3D%27https%3A%2F%2Fupgini.com%2F%23data_sources%27%20target%3D%27_blank%27%20rel%3D%27noopener%20noreferrer%27%3EMarkets%20data%3C%2Fa%3E%09Daily%0D%0Af_autofe_div_04d9bc60%090.6416%09100.0%091.0582,%20-1.0551,%201.0179%09Upgini%09AutoFE%3A%20features%20from%20%3Ca%20href%3D%27https%3A%2F%2Fupgini.com%2F%23data_sources%27%20target%3D%27_blank%27%20rel%3D%27noopener%20noreferrer%27%3ECalendar%20data%3C%2Fa%3E,%3Ca%20href%3D%27https%3A%2F%2Fupgini.com%2F%23data_sources%27%20target%3D%27_blank%27%20rel%3D%27noopener%20noreferrer%27%3EMarkets%20data%3C%2Fa%3E%09Daily%0D%0Af_autofe_mul_b49258bb%090.5871%09100.0%09294.3986,%20-283.4764,%20301.9199%09Upgini%09AutoFE%3A%20features%20from%20%3Ca%20href%3D%27https%3A%2F%2Fupgini.com%2F%23data_sources%27%20target%3D%27_blank%27%20rel%3D%27noopener%20noreferrer%27%3ECalendar%20data%3C%2Fa%3E,%3Ca%20href%3D%27https%3A%2F%2Fupgini.com%2F%23data_sources%27%20target%3D%27_blank%27%20rel%3D%27noopener%20noreferrer%27%3EMarkets%20data%3C%2Fa%3E%09Daily%0D%0Af_autofe_mul_b20799dd%090.5855%09100.0%091.0353,%200.9198,%200.9574%09Upgini%09AutoFE%3A%20features%20from%20%3Ca%20href%3D%27https%3A%2F%2Fupgini.com%2F%23data_sources%27%20target%3D%27_blank%27%20rel%3D%27noopener%20noreferrer%27%3EMarkets%20data%3C%2Fa%3E%09Daily%0D%0Af_autofe_mul_5388a2c0%090.4933%09100.0%091.4925,%200.7926,%201.2263%09Upgini%09AutoFE%3A%20features%20from%20%3Ca%20href%3D%27https%3A%2F%2Fupgini.com%2F%23data_sources%27%20target%3D%27_blank%27%20rel%3D%27noopener%20noreferrer%27%3EMarkets%20data%3C%2Fa%3E%09Daily%0D%0Af_autofe_div_3109d259%090.489%09100.0%090.3983,%20-0.8218,%20-0.8074%09Upgini%09AutoFE%3A%20features%20from%20%3Ca%20href%3D%27https%3A%2F%2Fupgini.com%2F%23data_sources%27%20target%3D%27_blank%27%20rel%3D%27noopener%20noreferrer%27%3ECalendar%20data%3C%2Fa%3E,%3Ca%20href%3D%27https%3A%2F%2Fupgini.com%2F%23data_sources%27%20target%3D%27_blank%27%20rel%3D%27noopener%20noreferrer%27%3EMarkets%20data%3C%2Fa%3E%09Daily%0D%0Af_events_date_year_sin1_3c44bc64%090.4575%09100.0%09-0.4775,%200.6729,%20-0.9973%09Upgini%09Calendar%20data%09Daily%0D%0Af_autofe_mul_4a9fa180%090.4531%09100.0%090.0343,%20-0.4078,%200.7596%09Upgini%09AutoFE%3A%20features%20from%20%3Ca%20href%3D%27https%3A%2F%2Fupgini.com%2F%23data_sources%27%20target%3D%27_blank%27%20rel%3D%27noopener%20noreferrer%27%3ECalendar%20data%3C%2Fa%3E%09Daily%0D%0Af_autofe_div_3e22df83%090.4052%09100.0%09-0.0206,%200.011,%200.0131%09Upgini%09AutoFE%3A%20features%20from%20%3Ca%20href%3D%27https%3A%2F%2Fupgini.com%2F%23data_sources%27%20target%3D%27_blank%27%20rel%3D%27noopener%20noreferrer%27%3ECalendar%20data%3C%2Fa%3E,%3Ca%20href%3D%27https%3A%2F%2Fupgini.com%2F%23data_sources%27%20target%3D%27_blank%27%20rel%3D%27noopener%20noreferrer%27%3EMarkets%20data%3C%2Fa%3E%09Daily%0D%0Af_autofe_div_cf5dd7be%090.3641%09100.0%090.8492,%200.5176,%20-1.03%09Upgini%09AutoFE%3A%20features%20from%20%3Ca%20href%3D%27https%3A%2F%2Fupgini.com%2F%23data_sources%27%20target%3D%27_blank%27%20rel%3D%27noopener%20noreferrer%27%3ECalendar%20data%3C%2Fa%3E,%3Ca%20href%3D%27https%3A%2F%2Fupgini.com%2F%23data_sources%27%20target%3D%27_blank%27%20rel%3D%27noopener%20noreferrer%27%3EMarkets%20data%3C%2Fa%3E%09Daily%0D%0Af_autofe_mul_f1536543%090.3162%09100.0%091.0112,%201.0735,%200.678%09Upgini%09AutoFE%3A%20features%20from%20%3Ca%20href%3D%27https%3A%2F%2Fupgini.com%2F%23data_sources%27%20target%3D%27_blank%27%20rel%3D%27noopener%20noreferrer%27%3ECalendar%20data%3C%2Fa%3E,%3Ca%20href%3D%27https%3A%2F%2Fupgini.com%2F%23data_sources%27%20target%3D%27_blank%27%20rel%3D%27noopener%20noreferrer%27%3EMarkets%20data%3C%2Fa%3E%09Daily%0D%0Af_autofe_mul_08e89348%090.309%09100.0%0942.6247,%2020.8091,%20-40.2643%09Upgini%09AutoFE%3A%20features%20from%20%3Ca%20href%3D%27https%3A%2F%2Fupgini.com%2F%23data_sources%27%20target%3D%27_blank%27%20rel%3D%27noopener%20noreferrer%27%3ECalendar%20data%3C%2Fa%3E,%3Ca%20href%3D%27https%3A%2F%2Fupgini.com%2F%23data_sources%27%20target%3D%27_blank%27%20rel%3D%27noopener%20noreferrer%27%3EMarkets%20data%3C%2Fa%3E%09Daily%0D%0Af_autofe_div_7eba89b2%090.2851%0985.4458133221967%09-1.1524,%20-0.6395,%20-0.5129%09Upgini%09AutoFE%3A%20features%20from%20%3Ca%20href%3D%27https%3A%2F%2Fupgini.com%2F%23data_sources%27%20target%3D%27_blank%27%20rel%3D%27noopener%20noreferrer%27%3ECalendar%20data%3C%2Fa%3E%09Daily%0D%0Af_autofe_div_0c0eef24%090.2747%09100.0%09-0.2494,%20-0.8107,%201.0179%09Upgini%09AutoFE%3A%20features%20from%20%3Ca%20href%3D%27https%3A%2F%2Fupgini.com%2F%23data_sources%27%20target%3D%27_blank%27%20rel%3D%27noopener%20noreferrer%27%3ECalendar%20data%3C%2Fa%3E,%3Ca%20href%3D%27https%3A%2F%2Fupgini.com%2F%23data_sources%27%20target%3D%27_blank%27%20rel%3D%27noopener%20noreferrer%27%3EMarkets%20data%3C%2Fa%3E%09Daily%0D%0Af_autofe_div_b97cf188%090.2618%0985.4458133221967%09-0.2846,%20-0.2846,%201.437%09Upgini%09AutoFE%3A%20features%20from%20%3Ca%20href%3D%27https%3A%2F%2Fupgini.com%2F%23data_sources%27%20target%3D%27_blank%27%20rel%3D%27noopener%20noreferrer%27%3ECalendar%20data%3C%2Fa%3E%09Daily%0D%0Af_autofe_div_0dcebab1%090.2597%09100.0%091.0067,%201.0448,%201.0385%09Upgini%09AutoFE%3A%20features%20from%20%3Ca%20href%3D%27https%3A%2F%2Fupgini.com%2F%23data_sources%27%20target%3D%27_blank%27%20rel%3D%27noopener%20noreferrer%27%3EMarkets%20data%3C%2Fa%3E%09Daily%0D%0Af_autofe_mul_cd42199d%090.2412%09100.0%09-0.67,%20-0.97,%20-0.8952%09Upgini%09AutoFE%3A%20features%20from%20%3Ca%20href%3D%27https%3A%2F%2Fupgini.com%2F%23data_sources%27%20target%3D%27_blank%27%20rel%3D%27noopener%20noreferrer%27%3ECalendar%20data%3C%2Fa%3E,%3Ca%20href%3D%27https%3A%2F%2Fupgini.com%2F%23data_sources%27%20target%3D%27_blank%27%20rel%3D%27noopener%20noreferrer%27%3EMarkets%20data%3C%2Fa%3E%09Daily%0D%0Af_autofe_div_be97ee4f%090.2058%09100.0%091.0885,%200.9491,%200.5734%09Upgini%09AutoFE%3A%20features%20from%20%3Ca%20href%3D%27https%3A%2F%2Fupgini.com%2F%23data_sources%27%20target%3D%27_blank%27%20rel%3D%27noopener%20noreferrer%27%3ECalendar%20data%3C%2Fa%3E,%3Ca%20href%3D%27https%3A%2F%2Fupgini.com%2F%23data_sources%27%20target%3D%27_blank%27%20rel%3D%27noopener%20noreferrer%27%3EMarkets%20data%3C%2Fa%3E%09Daily%0D%0Af_events_date_week_sin1_847b5db1%090.2031%09100.0%090.9749,%20-0.7818,%20-0.7818%09Upgini%09Calendar%20data%09Daily%0D%0Af_autofe_mul_5e57450d%090.1983%09100.0%090.5303,%20-0.4928,%20-0.1363%09Upgini%09AutoFE%3A%20features%20from%20%3Ca%20href%3D%27https%3A%2F%2Fupgini.com%2F%23data_sources%27%20target%3D%27_blank%27%20rel%3D%27noopener%20noreferrer%27%3ECalendar%20data%3C%2Fa%3E%09Daily%0D%0Af_autofe_div_c855cf40%090.1768%09100.0%09-0.0089,%20-0.0023,%20-0.0023%09Upgini%09AutoFE%3A%20features%20from%20%3Ca%20href%3D%27https%3A%2F%2Fupgini.com%2F%23data_sources%27%20target%3D%27_blank%27%20rel%3D%27noopener%20noreferrer%27%3ECalendar%20data%3C%2Fa%3E,%3Ca%20href%3D%27https%3A%2F%2Fupgini.com%2F%23data_sources%27%20target%3D%27_blank%27%20rel%3D%27noopener%20noreferrer%27%3EMarkets%20data%3C%2Fa%3E%09Daily%0D%0Af_events_date_week_sin2_e28440a5%090.1583%09100.0%090.0,%20-0.9749,%20-0.7818%09Upgini%09Calendar%20data%09Daily%0D%0Af_economic_date_cpi_umap_7_20d961e2%090.1411%09100.0%09-2.8865,%20-5.1397,%207.45%09Upgini%09World%20economic%20indicators%09Daily%0D%0Af_autofe_mul_89f64ca9%090.1342%09100.0%09-0.3495,%20-0.9615,%200.3796%09Upgini%09AutoFE%3A%20features%20from%20%3Ca%20href%3D%27https%3A%2F%2Fupgini.com%2F%23data_sources%27%20target%3D%27_blank%27%20rel%3D%27noopener%20noreferrer%27%3ECalendar%20data%3C%2Fa%3E,%3Ca%20href%3D%27https%3A%2F%2Fupgini.com%2F%23data_sources%27%20target%3D%27_blank%27%20rel%3D%27noopener%20noreferrer%27%3EMarkets%20data%3C%2Fa%3E%09Daily%0D%0Af_autofe_mul_af6d166b%090.1338%09100.0%09-0.8154,%20-0.6523,%200.5212%09Upgini%09AutoFE%3A%20features%20from%20%3Ca%20href%3D%27https%3A%2F%2Fupgini.com%2F%23data_sources%27%20target%3D%27_blank%27%20rel%3D%27noopener%20noreferrer%27%3ECalendar%20data%3C%2Fa%3E,%3Ca%20href%3D%27https%3A%2F%2Fupgini.com%2F%23data_sources%27%20target%3D%27_blank%27%20rel%3D%27noopener%20noreferrer%27%3EMarkets%20data%3C%2Fa%3E%09Daily%0D%0Af_autofe_div_22b77c5b%090.1285%09100.0%091.0074,%200.4759,%20-0.8284%09Upgini%09AutoFE%3A%20features%20from%20%3Ca%20href%3D%27https%3A%2F%2Fupgini.com%2F%23data_sources%27%20target%3D%27_blank%27%20rel%3D%27noopener%20noreferrer%27%3ECalendar%20data%3C%2Fa%3E,%3Ca%20href%3D%27https%3A%2F%2Fupgini.com%2F%23data_sources%27%20target%3D%27_blank%27%20rel%3D%27noopener%20noreferrer%27%3EMarkets%20data%3C%2Fa%3E%09Daily%0D%0Af_autofe_div_86414197%090.1196%09100.0%09-0.2204,%20-0.2332,%200.9611%09Upgini%09AutoFE%3A%20features%20from%20%3Ca%20href%3D%27https%3A%2F%2Fupgini.com%2F%23data_sources%27%20target%3D%27_blank%27%20rel%3D%27noopener%20noreferrer%27%3ECalendar%20data%3C%2Fa%3E,%3Ca%20href%3D%27https%3A%2F%2Fupgini.com%2F%23data_sources%27%20target%3D%27_blank%27%20rel%3D%27noopener%20noreferrer%27%3EMarkets%20data%3C%2Fa%3E%09Daily%0D%0Af_autofe_div_ba625fe9%090.0816%09100.0%09-0.9035,%20-1.1759,%20-0.9943%09Upgini%09AutoFE%3A%20features%20from%20%3Ca%20href%3D%27https%3A%2F%2Fupgini.com%2F%23data_sources%27%20target%3D%27_blank%27%20rel%3D%27noopener%20noreferrer%27%3ECalendar%20data%3C%2Fa%3E%09Daily%0D%0Af_autofe_mul_6a97c336%090.0808%09100.0%090.7713,%201.3197,%20-1.0099%09Upgini%09AutoFE%3A%20features%20from%20%3Ca%20href%3D%27https%3A%2F%2Fupgini.com%2F%23data_sources%27%20target%3D%27_blank%27%20rel%3D%27noopener%20noreferrer%27%3ECalendar%20data%3C%2Fa%3E,%3Ca%20href%3D%27https%3A%2F%2Fupgini.com%2F%23data_sources%27%20target%3D%27_blank%27%20rel%3D%27noopener%20noreferrer%27%3EMarkets%20data%3C%2Fa%3E%09Daily%0D%0Af_autofe_mul_041b52f4%090.0572%09100.0%09-0.3996,%20-0.078,%20-0.0853%09Upgini%09AutoFE%3A%20features%20from%20%3Ca%20href%3D%27https%3A%2F%2Fupgini.com%2F%23data_sources%27%20target%3D%27_blank%27%20rel%3D%27noopener%20noreferrer%27%3ECalendar%20data%3C%2Fa%3E%09Daily%0D%0Af_autofe_mul_0afc7563%090.057%09100.0%09-0.1827,%200.8315,%20-0.4204%09Upgini%09AutoFE%3A%20features%20from%20%3Ca%20href%3D%27https%3A%2F%2Fupgini.com%2F%23data_sources%27%20target%3D%27_blank%27%20rel%3D%27noopener%20noreferrer%27%3ECalendar%20data%3C%2Fa%3E%09Daily%0D%0Af_autofe_mul_7fc70d87%090.0267%09100.0%09-0.0829,%200.6143,%20-0.2095%09Upgini%09AutoFE%3A%20features%20from%20%3Ca%20href%3D%27https%3A%2F%2Fupgini.com%2F%23data_sources%27%20target%3D%27_blank%27%20rel%3D%27noopener%20noreferrer%27%3ECalendar%20data%3C%2Fa%3E%09Daily%0D%0A'))>📂 Copy</button>\n",
       "                <a href='mailto:<Share with...>?subject=Relevant external data sources from Upgini.com&body=Feature%20name%09SHAP%20value%09Coverage%20%25%09Value%20preview%09Provider%09Source%09Updates%0D%0Af_autofe_div_0a5adf97%091.1183%09100.0%090.1574,%200.1517,%20-0.3505%09Upgini%09AutoFE%3A%20features%20from%20%3Ca%20href%3D%27https%3A%2F%2Fupgini.com%2F%23data_sources%27%20target%3D%27_blank%27%20rel%3D%27noopener%20noreferrer%27%3ECalendar%20data%3C%2Fa%3E,%3Ca%20href%3D%27https%3A%2F%2Fupgini.com%2F%23data_sources%27%20target%3D%27_blank%27%20rel%3D%27noopener%20noreferrer%27%3EMarkets%20data%3C%2Fa%3E%09Daily%0D%0Af_autofe_div_536f8702%091.1164%09100.0%090.8846,%20-0.6879,%20-0.4568%09Upgini%09AutoFE%3A%20features%20from%20%3Ca%20href%3D%27https%3A%2F%2Fupgini.com%2F%23data_sources%27%20target%3D%27_blank%27%20rel%3D%27noopener%20noreferrer%27%3ECalendar%20data%3C%2Fa%3E,%3Ca%20href%3D%27https%3A%2F%2Fupgini.com%2F%23data_sources%27%20target%3D%27_blank%27%20rel%3D%27noopener%20noreferrer%27%3EMarkets%20data%3C%2Fa%3E%09Daily%0D%0Af_autofe_mul_efd66bbe%091.0686%09100.0%090.6131,%200.1437,%200.927%09Upgini%09AutoFE%3A%20features%20from%20%3Ca%20href%3D%27https%3A%2F%2Fupgini.com%2F%23data_sources%27%20target%3D%27_blank%27%20rel%3D%27noopener%20noreferrer%27%3ECalendar%20data%3C%2Fa%3E,%3Ca%20href%3D%27https%3A%2F%2Fupgini.com%2F%23data_sources%27%20target%3D%27_blank%27%20rel%3D%27noopener%20noreferrer%27%3EMarkets%20data%3C%2Fa%3E%09Daily%0D%0Af_autofe_div_1edd5009%091.0472%09100.0%090.005,%200.0419,%200.0449%09Upgini%09AutoFE%3A%20features%20from%20%3Ca%20href%3D%27https%3A%2F%2Fupgini.com%2F%23data_sources%27%20target%3D%27_blank%27%20rel%3D%27noopener%20noreferrer%27%3ECalendar%20data%3C%2Fa%3E,%3Ca%20href%3D%27https%3A%2F%2Fupgini.com%2F%23data_sources%27%20target%3D%27_blank%27%20rel%3D%27noopener%20noreferrer%27%3EMarkets%20data%3C%2Fa%3E%09Daily%0D%0Af_autofe_mul_34d11bc4%090.9956%09100.0%0915.1954,%206.5588,%205.1134%09Upgini%09AutoFE%3A%20features%20from%20%3Ca%20href%3D%27https%3A%2F%2Fupgini.com%2F%23data_sources%27%20target%3D%27_blank%27%20rel%3D%27noopener%20noreferrer%27%3ECalendar%20data%3C%2Fa%3E,%3Ca%20href%3D%27https%3A%2F%2Fupgini.com%2F%23data_sources%27%20target%3D%27_blank%27%20rel%3D%27noopener%20noreferrer%27%3EMarkets%20data%3C%2Fa%3E%09Daily%0D%0Af_events_date_year_cos1_9014a856%090.9359%09100.0%09-0.805,%20-0.5197,%200.0559%09Upgini%09Calendar%20data%09Daily%0D%0Af_autofe_div_cbf285e0%090.7026%09100.0%090.4262,%20-0.8299,%20-1.099%09Upgini%09AutoFE%3A%20features%20from%20%3Ca%20href%3D%27https%3A%2F%2Fupgini.com%2F%23data_sources%27%20target%3D%27_blank%27%20rel%3D%27noopener%20noreferrer%27%3ECalendar%20data%3C%2Fa%3E,%3Ca%20href%3D%27https%3A%2F%2Fupgini.com%2F%23data_sources%27%20target%3D%27_blank%27%20rel%3D%27noopener%20noreferrer%27%3EMarkets%20data%3C%2Fa%3E%09Daily%0D%0Af_autofe_mul_25296268%090.6455%09100.0%090.611,%200.7963,%20-0.818%09Upgini%09AutoFE%3A%20features%20from%20%3Ca%20href%3D%27https%3A%2F%2Fupgini.com%2F%23data_sources%27%20target%3D%27_blank%27%20rel%3D%27noopener%20noreferrer%27%3ECalendar%20data%3C%2Fa%3E,%3Ca%20href%3D%27https%3A%2F%2Fupgini.com%2F%23data_sources%27%20target%3D%27_blank%27%20rel%3D%27noopener%20noreferrer%27%3EMarkets%20data%3C%2Fa%3E%09Daily%0D%0Af_autofe_div_04d9bc60%090.6416%09100.0%091.0582,%20-1.0551,%201.0179%09Upgini%09AutoFE%3A%20features%20from%20%3Ca%20href%3D%27https%3A%2F%2Fupgini.com%2F%23data_sources%27%20target%3D%27_blank%27%20rel%3D%27noopener%20noreferrer%27%3ECalendar%20data%3C%2Fa%3E,%3Ca%20href%3D%27https%3A%2F%2Fupgini.com%2F%23data_sources%27%20target%3D%27_blank%27%20rel%3D%27noopener%20noreferrer%27%3EMarkets%20data%3C%2Fa%3E%09Daily%0D%0Af_autofe_mul_b49258bb%090.5871%09100.0%09294.3986,%20-283.4764,%20301.9199%09Upgini%09AutoFE%3A%20features%20from%20%3Ca%20href%3D%27https%3A%2F%2Fupgini.com%2F%23data_sources%27%20target%3D%27_blank%27%20rel%3D%27noopener%20noreferrer%27%3ECalendar%20data%3C%2Fa%3E,%3Ca%20href%3D%27https%3A%2F%2Fupgini.com%2F%23data_sources%27%20target%3D%27_blank%27%20rel%3D%27noopener%20noreferrer%27%3EMarkets%20data%3C%2Fa%3E%09Daily%0D%0Af_autofe_mul_b20799dd%090.5855%09100.0%091.0353,%200.9198,%200.9574%09Upgini%09AutoFE%3A%20features%20from%20%3Ca%20href%3D%27https%3A%2F%2Fupgini.com%2F%23data_sources%27%20target%3D%27_blank%27%20rel%3D%27noopener%20noreferrer%27%3EMarkets%20data%3C%2Fa%3E%09Daily%0D%0Af_autofe_mul_5388a2c0%090.4933%09100.0%091.4925,%200.7926,%201.2263%09Upgini%09AutoFE%3A%20features%20from%20%3Ca%20href%3D%27https%3A%2F%2Fupgini.com%2F%23data_sources%27%20target%3D%27_blank%27%20rel%3D%27noopener%20noreferrer%27%3EMarkets%20data%3C%2Fa%3E%09Daily%0D%0Af_autofe_div_3109d259%090.489%09100.0%090.3983,%20-0.8218,%20-0.8074%09Upgini%09AutoFE%3A%20features%20from%20%3Ca%20href%3D%27https%3A%2F%2Fupgini.com%2F%23data_sources%27%20target%3D%27_blank%27%20rel%3D%27noopener%20noreferrer%27%3ECalendar%20data%3C%2Fa%3E,%3Ca%20href%3D%27https%3A%2F%2Fupgini.com%2F%23data_sources%27%20target%3D%27_blank%27%20rel%3D%27noopener%20noreferrer%27%3EMarkets%20data%3C%2Fa%3E%09Daily%0D%0Af_events_date_year_sin1_3c44bc64%090.4575%09100.0%09-0.4775,%200.6729,%20-0.9973%09Upgini%09Calendar%20data%09Daily%0D%0Af_autofe_mul_4a9fa180%090.4531%09100.0%090.0343,%20-0.4078,%200.7596%09Upgini%09AutoFE%3A%20features%20from%20%3Ca%20href%3D%27https%3A%2F%2Fupgini.com%2F%23data_sources%27%20target%3D%27_blank%27%20rel%3D%27noopener%20noreferrer%27%3ECalendar%20data%3C%2Fa%3E%09Daily%0D%0Af_autofe_div_3e22df83%090.4052%09100.0%09-0.0206,%200.011,%200.0131%09Upgini%09AutoFE%3A%20features%20from%20%3Ca%20href%3D%27https%3A%2F%2Fupgini.com%2F%23data_sources%27%20target%3D%27_blank%27%20rel%3D%27noopener%20noreferrer%27%3ECalendar%20data%3C%2Fa%3E,%3Ca%20href%3D%27https%3A%2F%2Fupgini.com%2F%23data_sources%27%20target%3D%27_blank%27%20rel%3D%27noopener%20noreferrer%27%3EMarkets%20data%3C%2Fa%3E%09Daily%0D%0Af_autofe_div_cf5dd7be%090.3641%09100.0%090.8492,%200.5176,%20-1.03%09Upgini%09AutoFE%3A%20features%20from%20%3Ca%20href%3D%27https%3A%2F%2Fupgini.com%2F%23data_sources%27%20target%3D%27_blank%27%20rel%3D%27noopener%20noreferrer%27%3ECalendar%20data%3C%2Fa%3E,%3Ca%20href%3D%27https%3A%2F%2Fupgini.com%2F%23data_sources%27%20target%3D%27_blank%27%20rel%3D%27noopener%20noreferrer%27%3EMarkets%20data%3C%2Fa%3E%09Daily%0D%0Af_autofe_mul_f1536543%090.3162%09100.0%091.0112,%201.0735,%200.678%09Upgini%09AutoFE%3A%20features%20from%20%3Ca%20href%3D%27https%3A%2F%2Fupgini.com%2F%23data_sources%27%20target%3D%27_blank%27%20rel%3D%27noopener%20noreferrer%27%3ECalendar%20data%3C%2Fa%3E,%3Ca%20href%3D%27https%3A%2F%2Fupgini.com%2F%23data_sources%27%20target%3D%27_blank%27%20rel%3D%27noopener%20noreferrer%27%3EMarkets%20data%3C%2Fa%3E%09Daily%0D%0Af_autofe_mul_08e89348%090.309%09100.0%0942.6247,%2020.8091,%20-40.2643%09Upgini%09AutoFE%3A%20features%20from%20%3Ca%20href%3D%27https%3A%2F%2Fupgini.com%2F%23data_sources%27%20target%3D%27_blank%27%20rel%3D%27noopener%20noreferrer%27%3ECalendar%20data%3C%2Fa%3E,%3Ca%20href%3D%27https%3A%2F%2Fupgini.com%2F%23data_sources%27%20target%3D%27_blank%27%20rel%3D%27noopener%20noreferrer%27%3EMarkets%20data%3C%2Fa%3E%09Daily%0D%0Af_autofe_div_7eba89b2%090.2851%0985.4458133221967%09-1.1524,%20-0.6395,%20-0.5129%09Upgini%09AutoFE%3A%20features%20from%20%3Ca%20href%3D%27https%3A%2F%2Fupgini.com%2F%23data_sources%27%20target%3D%27_blank%27%20rel%3D%27noopener%20noreferrer%27%3ECalendar%20data%3C%2Fa%3E%09Daily%0D%0Af_autofe_div_0c0eef24%090.2747%09100.0%09-0.2494,%20-0.8107,%201.0179%09Upgini%09AutoFE%3A%20features%20from%20%3Ca%20href%3D%27https%3A%2F%2Fupgini.com%2F%23data_sources%27%20target%3D%27_blank%27%20rel%3D%27noopener%20noreferrer%27%3ECalendar%20data%3C%2Fa%3E,%3Ca%20href%3D%27https%3A%2F%2Fupgini.com%2F%23data_sources%27%20target%3D%27_blank%27%20rel%3D%27noopener%20noreferrer%27%3EMarkets%20data%3C%2Fa%3E%09Daily%0D%0Af_autofe_div_b97cf188%090.2618%0985.4458133221967%09-0.2846,%20-0.2846,%201.437%09Upgini%09AutoFE%3A%20features%20from%20%3Ca%20href%3D%27https%3A%2F%2Fupgini.com%2F%23data_sources%27%20target%3D%27_blank%27%20rel%3D%27noopener%20noreferrer%27%3ECalendar%20data%3C%2Fa%3E%09Daily%0D%0Af_autofe_div_0dcebab1%090.2597%09100.0%091.0067,%201.0448,%201.0385%09Upgini%09AutoFE%3A%20features%20from%20%3Ca%20href%3D%27https%3A%2F%2Fupgini.com%2F%23data_sources%27%20target%3D%27_blank%27%20rel%3D%27noopener%20noreferrer%27%3EMarkets%20data%3C%2Fa%3E%09Daily%0D%0Af_autofe_mul_cd42199d%090.2412%09100.0%09-0.67,%20-0.97,%20-0.8952%09Upgini%09AutoFE%3A%20features%20from%20%3Ca%20href%3D%27https%3A%2F%2Fupgini.com%2F%23data_sources%27%20target%3D%27_blank%27%20rel%3D%27noopener%20noreferrer%27%3ECalendar%20data%3C%2Fa%3E,%3Ca%20href%3D%27https%3A%2F%2Fupgini.com%2F%23data_sources%27%20target%3D%27_blank%27%20rel%3D%27noopener%20noreferrer%27%3EMarkets%20data%3C%2Fa%3E%09Daily%0D%0Af_autofe_div_be97ee4f%090.2058%09100.0%091.0885,%200.9491,%200.5734%09Upgini%09AutoFE%3A%20features%20from%20%3Ca%20href%3D%27https%3A%2F%2Fupgini.com%2F%23data_sources%27%20target%3D%27_blank%27%20rel%3D%27noopener%20noreferrer%27%3ECalendar%20data%3C%2Fa%3E,%3Ca%20href%3D%27https%3A%2F%2Fupgini.com%2F%23data_sources%27%20target%3D%27_blank%27%20rel%3D%27noopener%20noreferrer%27%3EMarkets%20data%3C%2Fa%3E%09Daily%0D%0Af_events_date_week_sin1_847b5db1%090.2031%09100.0%090.9749,%20-0.7818,%20-0.7818%09Upgini%09Calendar%20data%09Daily%0D%0Af_autofe_mul_5e57450d%090.1983%09100.0%090.5303,%20-0.4928,%20-0.1363%09Upgini%09AutoFE%3A%20features%20from%20%3Ca%20href%3D%27https%3A%2F%2Fupgini.com%2F%23data_sources%27%20target%3D%27_blank%27%20rel%3D%27noopener%20noreferrer%27%3ECalendar%20data%3C%2Fa%3E%09Daily%0D%0Af_autofe_div_c855cf40%090.1768%09100.0%09-0.0089,%20-0.0023,%20-0.0023%09Upgini%09AutoFE%3A%20features%20from%20%3Ca%20href%3D%27https%3A%2F%2Fupgini.com%2F%23data_sources%27%20target%3D%27_blank%27%20rel%3D%27noopener%20noreferrer%27%3ECalendar%20data%3C%2Fa%3E,%3Ca%20href%3D%27https%3A%2F%2Fupgini.com%2F%23data_sources%27%20target%3D%27_blank%27%20rel%3D%27noopener%20noreferrer%27%3EMarkets%20data%3C%2Fa%3E%09Daily%0D%0Af_events_date_week_sin2_e28440a5%090.1583%09100.0%090.0,%20-0.9749,%20-0.7818%09Upgini%09Calendar%20data%09Daily%0D%0Af_economic_date_cpi_umap_7_20d961e2%090.1411%09100.0%09-2.8865,%20-5.1397,%207.45%09Upgini%09World%20economic%20indicators%09Daily%0D%0Af_autofe_mul_89f64ca9%090.1342%09100.0%09-0.3495,%20-0.9615,%200.3796%09Upgini%09AutoFE%3A%20features%20from%20%3Ca%20href%3D%27https%3A%2F%2Fupgini.com%2F%23data_sources%27%20target%3D%27_blank%27%20rel%3D%27noopener%20noreferrer%27%3ECalendar%20data%3C%2Fa%3E,%3Ca%20href%3D%27https%3A%2F%2Fupgini.com%2F%23data_sources%27%20target%3D%27_blank%27%20rel%3D%27noopener%20noreferrer%27%3EMarkets%20data%3C%2Fa%3E%09Daily%0D%0Af_autofe_mul_af6d166b%090.1338%09100.0%09-0.8154,%20-0.6523,%200.5212%09Upgini%09AutoFE%3A%20features%20from%20%3Ca%20href%3D%27https%3A%2F%2Fupgini.com%2F%23data_sources%27%20target%3D%27_blank%27%20rel%3D%27noopener%20noreferrer%27%3ECalendar%20data%3C%2Fa%3E,%3Ca%20href%3D%27https%3A%2F%2Fupgini.com%2F%23data_sources%27%20target%3D%27_blank%27%20rel%3D%27noopener%20noreferrer%27%3EMarkets%20data%3C%2Fa%3E%09Daily%0D%0Af_autofe_div_22b77c5b%090.1285%09100.0%091.0074,%200.4759,%20-0.8284%09Upgini%09AutoFE%3A%20features%20from%20%3Ca%20href%3D%27https%3A%2F%2Fupgini.com%2F%23data_sources%27%20target%3D%27_blank%27%20rel%3D%27noopener%20noreferrer%27%3ECalendar%20data%3C%2Fa%3E,%3Ca%20href%3D%27https%3A%2F%2Fupgini.com%2F%23data_sources%27%20target%3D%27_blank%27%20rel%3D%27noopener%20noreferrer%27%3EMarkets%20data%3C%2Fa%3E%09Daily%0D%0Af_autofe_div_86414197%090.1196%09100.0%09-0.2204,%20-0.2332,%200.9611%09Upgini%09AutoFE%3A%20features%20from%20%3Ca%20href%3D%27https%3A%2F%2Fupgini.com%2F%23data_sources%27%20target%3D%27_blank%27%20rel%3D%27noopener%20noreferrer%27%3ECalendar%20data%3C%2Fa%3E,%3Ca%20href%3D%27https%3A%2F%2Fupgini.com%2F%23data_sources%27%20target%3D%27_blank%27%20rel%3D%27noopener%20noreferrer%27%3EMarkets%20data%3C%2Fa%3E%09Daily%0D%0Af_autofe_div_ba625fe9%090.0816%09100.0%09-0.9035,%20-1.1759,%20-0.9943%09Upgini%09AutoFE%3A%20features%20from%20%3Ca%20href%3D%27https%3A%2F%2Fupgini.com%2F%23data_sources%27%20target%3D%27_blank%27%20rel%3D%27noopener%20noreferrer%27%3ECalendar%20data%3C%2Fa%3E%09Daily%0D%0Af_autofe_mul_6a97c336%090.0808%09100.0%090.7713,%201.3197,%20-1.0099%09Upgini%09AutoFE%3A%20features%20from%20%3Ca%20href%3D%27https%3A%2F%2Fupgini.com%2F%23data_sources%27%20target%3D%27_blank%27%20rel%3D%27noopener%20noreferrer%27%3ECalendar%20data%3C%2Fa%3E,%3Ca%20href%3D%27https%3A%2F%2Fupgini.com%2F%23data_sources%27%20target%3D%27_blank%27%20rel%3D%27noopener%20noreferrer%27%3EMarkets%20data%3C%2Fa%3E%09Daily%0D%0Af_autofe_mul_041b52f4%090.0572%09100.0%09-0.3996,%20-0.078,%20-0.0853%09Upgini%09AutoFE%3A%20features%20from%20%3Ca%20href%3D%27https%3A%2F%2Fupgini.com%2F%23data_sources%27%20target%3D%27_blank%27%20rel%3D%27noopener%20noreferrer%27%3ECalendar%20data%3C%2Fa%3E%09Daily%0D%0Af_autofe_mul_0afc7563%090.057%09100.0%09-0.1827,%200.8315,%20-0.4204%09Upgini%09AutoFE%3A%20features%20from%20%3Ca%20href%3D%27https%3A%2F%2Fupgini.com%2F%23data_sources%27%20target%3D%27_blank%27%20rel%3D%27noopener%20noreferrer%27%3ECalendar%20data%3C%2Fa%3E%09Daily%0D%0Af_autofe_mul_7fc70d87%090.0267%09100.0%09-0.0829,%200.6143,%20-0.2095%09Upgini%09AutoFE%3A%20features%20from%20%3Ca%20href%3D%27https%3A%2F%2Fupgini.com%2F%23data_sources%27%20target%3D%27_blank%27%20rel%3D%27noopener%20noreferrer%27%3ECalendar%20data%3C%2Fa%3E%09Daily%0D%0A'>\n",
       "                    <button>📨 Share</button>\n",
       "                </a>\n",
       "            </div>\n",
       "            <table class='upgini-df'><thead><th>Feature name</th><th>SHAP value</th><th>Coverage %</th><th>Value preview</th><th>Provider</th><th>Source</th><th>Updates</th></thead><tbody><tr><td class='upgini-text'>f_autofe_div_0a5adf97</td><td class='upgini-number'>1.1183</td><td class='upgini-number'>100.0000</td><td class='upgini-text'>0.1574, 0.1517, -0.3505</td><td class='upgini-text'><a href='https://upgini.com' target='_blank' rel='noopener noreferrer'>Upgini</a></td><td class='upgini-text'>AutoFE: features from <a href='https://upgini.com/#data_sources' target='_blank' rel='noopener noreferrer'>Calendar data</a>,<a href='https://upgini.com/#data_sources' target='_blank' rel='noopener noreferrer'>Markets data</a></td><td class='upgini-text'>Daily</td></tr><tr><td class='upgini-text'>f_autofe_div_536f8702</td><td class='upgini-number'>1.1164</td><td class='upgini-number'>100.0000</td><td class='upgini-text'>0.8846, -0.6879, -0.4568</td><td class='upgini-text'><a href='https://upgini.com' target='_blank' rel='noopener noreferrer'>Upgini</a></td><td class='upgini-text'>AutoFE: features from <a href='https://upgini.com/#data_sources' target='_blank' rel='noopener noreferrer'>Calendar data</a>,<a href='https://upgini.com/#data_sources' target='_blank' rel='noopener noreferrer'>Markets data</a></td><td class='upgini-text'>Daily</td></tr><tr><td class='upgini-text'>f_autofe_mul_efd66bbe</td><td class='upgini-number'>1.0686</td><td class='upgini-number'>100.0000</td><td class='upgini-text'>0.6131, 0.1437, 0.927</td><td class='upgini-text'><a href='https://upgini.com' target='_blank' rel='noopener noreferrer'>Upgini</a></td><td class='upgini-text'>AutoFE: features from <a href='https://upgini.com/#data_sources' target='_blank' rel='noopener noreferrer'>Calendar data</a>,<a href='https://upgini.com/#data_sources' target='_blank' rel='noopener noreferrer'>Markets data</a></td><td class='upgini-text'>Daily</td></tr><tr><td class='upgini-text'>f_autofe_div_1edd5009</td><td class='upgini-number'>1.0472</td><td class='upgini-number'>100.0000</td><td class='upgini-text'>0.005, 0.0419, 0.0449</td><td class='upgini-text'><a href='https://upgini.com' target='_blank' rel='noopener noreferrer'>Upgini</a></td><td class='upgini-text'>AutoFE: features from <a href='https://upgini.com/#data_sources' target='_blank' rel='noopener noreferrer'>Calendar data</a>,<a href='https://upgini.com/#data_sources' target='_blank' rel='noopener noreferrer'>Markets data</a></td><td class='upgini-text'>Daily</td></tr><tr><td class='upgini-text'>f_autofe_mul_34d11bc4</td><td class='upgini-number'>0.9956</td><td class='upgini-number'>100.0000</td><td class='upgini-text'>15.1954, 6.5588, 5.1134</td><td class='upgini-text'><a href='https://upgini.com' target='_blank' rel='noopener noreferrer'>Upgini</a></td><td class='upgini-text'>AutoFE: features from <a href='https://upgini.com/#data_sources' target='_blank' rel='noopener noreferrer'>Calendar data</a>,<a href='https://upgini.com/#data_sources' target='_blank' rel='noopener noreferrer'>Markets data</a></td><td class='upgini-text'>Daily</td></tr><tr><td class='upgini-text'>f_autofe_div_cbf285e0</td><td class='upgini-number'>0.7026</td><td class='upgini-number'>100.0000</td><td class='upgini-text'>0.4262, -0.8299, -1.099</td><td class='upgini-text'><a href='https://upgini.com' target='_blank' rel='noopener noreferrer'>Upgini</a></td><td class='upgini-text'>AutoFE: features from <a href='https://upgini.com/#data_sources' target='_blank' rel='noopener noreferrer'>Calendar data</a>,<a href='https://upgini.com/#data_sources' target='_blank' rel='noopener noreferrer'>Markets data</a></td><td class='upgini-text'>Daily</td></tr><tr><td class='upgini-text'>f_autofe_mul_25296268</td><td class='upgini-number'>0.6455</td><td class='upgini-number'>100.0000</td><td class='upgini-text'>0.611, 0.7963, -0.818</td><td class='upgini-text'><a href='https://upgini.com' target='_blank' rel='noopener noreferrer'>Upgini</a></td><td class='upgini-text'>AutoFE: features from <a href='https://upgini.com/#data_sources' target='_blank' rel='noopener noreferrer'>Calendar data</a>,<a href='https://upgini.com/#data_sources' target='_blank' rel='noopener noreferrer'>Markets data</a></td><td class='upgini-text'>Daily</td></tr><tr><td class='upgini-text'>f_autofe_div_04d9bc60</td><td class='upgini-number'>0.6416</td><td class='upgini-number'>100.0000</td><td class='upgini-text'>1.0582, -1.0551, 1.0179</td><td class='upgini-text'><a href='https://upgini.com' target='_blank' rel='noopener noreferrer'>Upgini</a></td><td class='upgini-text'>AutoFE: features from <a href='https://upgini.com/#data_sources' target='_blank' rel='noopener noreferrer'>Calendar data</a>,<a href='https://upgini.com/#data_sources' target='_blank' rel='noopener noreferrer'>Markets data</a></td><td class='upgini-text'>Daily</td></tr><tr><td class='upgini-text'>f_autofe_mul_b49258bb</td><td class='upgini-number'>0.5871</td><td class='upgini-number'>100.0000</td><td class='upgini-text'>294.3986, -283.4764, 301.9199</td><td class='upgini-text'><a href='https://upgini.com' target='_blank' rel='noopener noreferrer'>Upgini</a></td><td class='upgini-text'>AutoFE: features from <a href='https://upgini.com/#data_sources' target='_blank' rel='noopener noreferrer'>Calendar data</a>,<a href='https://upgini.com/#data_sources' target='_blank' rel='noopener noreferrer'>Markets data</a></td><td class='upgini-text'>Daily</td></tr><tr><td class='upgini-text'>f_autofe_mul_b20799dd</td><td class='upgini-number'>0.5855</td><td class='upgini-number'>100.0000</td><td class='upgini-text'>1.0353, 0.9198, 0.9574</td><td class='upgini-text'><a href='https://upgini.com' target='_blank' rel='noopener noreferrer'>Upgini</a></td><td class='upgini-text'>AutoFE: features from <a href='https://upgini.com/#data_sources' target='_blank' rel='noopener noreferrer'>Markets data</a></td><td class='upgini-text'>Daily</td></tr><tr><td class='upgini-text'>f_autofe_mul_5388a2c0</td><td class='upgini-number'>0.4933</td><td class='upgini-number'>100.0000</td><td class='upgini-text'>1.4925, 0.7926, 1.2263</td><td class='upgini-text'><a href='https://upgini.com' target='_blank' rel='noopener noreferrer'>Upgini</a></td><td class='upgini-text'>AutoFE: features from <a href='https://upgini.com/#data_sources' target='_blank' rel='noopener noreferrer'>Markets data</a></td><td class='upgini-text'>Daily</td></tr><tr><td class='upgini-text'>f_autofe_div_3109d259</td><td class='upgini-number'>0.4890</td><td class='upgini-number'>100.0000</td><td class='upgini-text'>0.3983, -0.8218, -0.8074</td><td class='upgini-text'><a href='https://upgini.com' target='_blank' rel='noopener noreferrer'>Upgini</a></td><td class='upgini-text'>AutoFE: features from <a href='https://upgini.com/#data_sources' target='_blank' rel='noopener noreferrer'>Calendar data</a>,<a href='https://upgini.com/#data_sources' target='_blank' rel='noopener noreferrer'>Markets data</a></td><td class='upgini-text'>Daily</td></tr><tr><td class='upgini-text'>f_autofe_mul_4a9fa180</td><td class='upgini-number'>0.4531</td><td class='upgini-number'>100.0000</td><td class='upgini-text'>0.0343, -0.4078, 0.7596</td><td class='upgini-text'><a href='https://upgini.com' target='_blank' rel='noopener noreferrer'>Upgini</a></td><td class='upgini-text'>AutoFE: features from <a href='https://upgini.com/#data_sources' target='_blank' rel='noopener noreferrer'>Calendar data</a></td><td class='upgini-text'>Daily</td></tr><tr><td class='upgini-text'>f_autofe_div_3e22df83</td><td class='upgini-number'>0.4052</td><td class='upgini-number'>100.0000</td><td class='upgini-text'>-0.0206, 0.011, 0.0131</td><td class='upgini-text'><a href='https://upgini.com' target='_blank' rel='noopener noreferrer'>Upgini</a></td><td class='upgini-text'>AutoFE: features from <a href='https://upgini.com/#data_sources' target='_blank' rel='noopener noreferrer'>Calendar data</a>,<a href='https://upgini.com/#data_sources' target='_blank' rel='noopener noreferrer'>Markets data</a></td><td class='upgini-text'>Daily</td></tr><tr><td class='upgini-text'>f_autofe_div_cf5dd7be</td><td class='upgini-number'>0.3641</td><td class='upgini-number'>100.0000</td><td class='upgini-text'>0.8492, 0.5176, -1.03</td><td class='upgini-text'><a href='https://upgini.com' target='_blank' rel='noopener noreferrer'>Upgini</a></td><td class='upgini-text'>AutoFE: features from <a href='https://upgini.com/#data_sources' target='_blank' rel='noopener noreferrer'>Calendar data</a>,<a href='https://upgini.com/#data_sources' target='_blank' rel='noopener noreferrer'>Markets data</a></td><td class='upgini-text'>Daily</td></tr><tr><td class='upgini-text'>f_autofe_mul_f1536543</td><td class='upgini-number'>0.3162</td><td class='upgini-number'>100.0000</td><td class='upgini-text'>1.0112, 1.0735, 0.678</td><td class='upgini-text'><a href='https://upgini.com' target='_blank' rel='noopener noreferrer'>Upgini</a></td><td class='upgini-text'>AutoFE: features from <a href='https://upgini.com/#data_sources' target='_blank' rel='noopener noreferrer'>Calendar data</a>,<a href='https://upgini.com/#data_sources' target='_blank' rel='noopener noreferrer'>Markets data</a></td><td class='upgini-text'>Daily</td></tr><tr><td class='upgini-text'>f_autofe_mul_08e89348</td><td class='upgini-number'>0.3090</td><td class='upgini-number'>100.0000</td><td class='upgini-text'>42.6247, 20.8091, -40.2643</td><td class='upgini-text'><a href='https://upgini.com' target='_blank' rel='noopener noreferrer'>Upgini</a></td><td class='upgini-text'>AutoFE: features from <a href='https://upgini.com/#data_sources' target='_blank' rel='noopener noreferrer'>Calendar data</a>,<a href='https://upgini.com/#data_sources' target='_blank' rel='noopener noreferrer'>Markets data</a></td><td class='upgini-text'>Daily</td></tr><tr><td class='upgini-text'>f_autofe_div_7eba89b2</td><td class='upgini-number'>0.2851</td><td class='upgini-number'>85.4458</td><td class='upgini-text'>-1.1524, -0.6395, -0.5129</td><td class='upgini-text'><a href='https://upgini.com' target='_blank' rel='noopener noreferrer'>Upgini</a></td><td class='upgini-text'>AutoFE: features from <a href='https://upgini.com/#data_sources' target='_blank' rel='noopener noreferrer'>Calendar data</a></td><td class='upgini-text'>Daily</td></tr><tr><td class='upgini-text'>f_autofe_div_0c0eef24</td><td class='upgini-number'>0.2747</td><td class='upgini-number'>100.0000</td><td class='upgini-text'>-0.2494, -0.8107, 1.0179</td><td class='upgini-text'><a href='https://upgini.com' target='_blank' rel='noopener noreferrer'>Upgini</a></td><td class='upgini-text'>AutoFE: features from <a href='https://upgini.com/#data_sources' target='_blank' rel='noopener noreferrer'>Calendar data</a>,<a href='https://upgini.com/#data_sources' target='_blank' rel='noopener noreferrer'>Markets data</a></td><td class='upgini-text'>Daily</td></tr><tr><td class='upgini-text'>f_autofe_div_b97cf188</td><td class='upgini-number'>0.2618</td><td class='upgini-number'>85.4458</td><td class='upgini-text'>-0.2846, -0.2846, 1.437</td><td class='upgini-text'><a href='https://upgini.com' target='_blank' rel='noopener noreferrer'>Upgini</a></td><td class='upgini-text'>AutoFE: features from <a href='https://upgini.com/#data_sources' target='_blank' rel='noopener noreferrer'>Calendar data</a></td><td class='upgini-text'>Daily</td></tr><tr><td class='upgini-text'>f_autofe_div_0dcebab1</td><td class='upgini-number'>0.2597</td><td class='upgini-number'>100.0000</td><td class='upgini-text'>1.0067, 1.0448, 1.0385</td><td class='upgini-text'><a href='https://upgini.com' target='_blank' rel='noopener noreferrer'>Upgini</a></td><td class='upgini-text'>AutoFE: features from <a href='https://upgini.com/#data_sources' target='_blank' rel='noopener noreferrer'>Markets data</a></td><td class='upgini-text'>Daily</td></tr><tr><td class='upgini-text'>f_autofe_mul_cd42199d</td><td class='upgini-number'>0.2412</td><td class='upgini-number'>100.0000</td><td class='upgini-text'>-0.67, -0.97, -0.8952</td><td class='upgini-text'><a href='https://upgini.com' target='_blank' rel='noopener noreferrer'>Upgini</a></td><td class='upgini-text'>AutoFE: features from <a href='https://upgini.com/#data_sources' target='_blank' rel='noopener noreferrer'>Calendar data</a>,<a href='https://upgini.com/#data_sources' target='_blank' rel='noopener noreferrer'>Markets data</a></td><td class='upgini-text'>Daily</td></tr><tr><td class='upgini-text'>f_autofe_div_be97ee4f</td><td class='upgini-number'>0.2058</td><td class='upgini-number'>100.0000</td><td class='upgini-text'>1.0885, 0.9491, 0.5734</td><td class='upgini-text'><a href='https://upgini.com' target='_blank' rel='noopener noreferrer'>Upgini</a></td><td class='upgini-text'>AutoFE: features from <a href='https://upgini.com/#data_sources' target='_blank' rel='noopener noreferrer'>Calendar data</a>,<a href='https://upgini.com/#data_sources' target='_blank' rel='noopener noreferrer'>Markets data</a></td><td class='upgini-text'>Daily</td></tr><tr><td class='upgini-text'>f_autofe_mul_5e57450d</td><td class='upgini-number'>0.1983</td><td class='upgini-number'>100.0000</td><td class='upgini-text'>0.5303, -0.4928, -0.1363</td><td class='upgini-text'><a href='https://upgini.com' target='_blank' rel='noopener noreferrer'>Upgini</a></td><td class='upgini-text'>AutoFE: features from <a href='https://upgini.com/#data_sources' target='_blank' rel='noopener noreferrer'>Calendar data</a></td><td class='upgini-text'>Daily</td></tr><tr><td class='upgini-text'>f_autofe_div_c855cf40</td><td class='upgini-number'>0.1768</td><td class='upgini-number'>100.0000</td><td class='upgini-text'>-0.0089, -0.0023, -0.0023</td><td class='upgini-text'><a href='https://upgini.com' target='_blank' rel='noopener noreferrer'>Upgini</a></td><td class='upgini-text'>AutoFE: features from <a href='https://upgini.com/#data_sources' target='_blank' rel='noopener noreferrer'>Calendar data</a>,<a href='https://upgini.com/#data_sources' target='_blank' rel='noopener noreferrer'>Markets data</a></td><td class='upgini-text'>Daily</td></tr><tr><td class='upgini-text'>f_autofe_mul_89f64ca9</td><td class='upgini-number'>0.1342</td><td class='upgini-number'>100.0000</td><td class='upgini-text'>-0.3495, -0.9615, 0.3796</td><td class='upgini-text'><a href='https://upgini.com' target='_blank' rel='noopener noreferrer'>Upgini</a></td><td class='upgini-text'>AutoFE: features from <a href='https://upgini.com/#data_sources' target='_blank' rel='noopener noreferrer'>Calendar data</a>,<a href='https://upgini.com/#data_sources' target='_blank' rel='noopener noreferrer'>Markets data</a></td><td class='upgini-text'>Daily</td></tr><tr><td class='upgini-text'>f_autofe_mul_af6d166b</td><td class='upgini-number'>0.1338</td><td class='upgini-number'>100.0000</td><td class='upgini-text'>-0.8154, -0.6523, 0.5212</td><td class='upgini-text'><a href='https://upgini.com' target='_blank' rel='noopener noreferrer'>Upgini</a></td><td class='upgini-text'>AutoFE: features from <a href='https://upgini.com/#data_sources' target='_blank' rel='noopener noreferrer'>Calendar data</a>,<a href='https://upgini.com/#data_sources' target='_blank' rel='noopener noreferrer'>Markets data</a></td><td class='upgini-text'>Daily</td></tr><tr><td class='upgini-text'>f_autofe_div_22b77c5b</td><td class='upgini-number'>0.1285</td><td class='upgini-number'>100.0000</td><td class='upgini-text'>1.0074, 0.4759, -0.8284</td><td class='upgini-text'><a href='https://upgini.com' target='_blank' rel='noopener noreferrer'>Upgini</a></td><td class='upgini-text'>AutoFE: features from <a href='https://upgini.com/#data_sources' target='_blank' rel='noopener noreferrer'>Calendar data</a>,<a href='https://upgini.com/#data_sources' target='_blank' rel='noopener noreferrer'>Markets data</a></td><td class='upgini-text'>Daily</td></tr><tr><td class='upgini-text'>f_autofe_div_86414197</td><td class='upgini-number'>0.1196</td><td class='upgini-number'>100.0000</td><td class='upgini-text'>-0.2204, -0.2332, 0.9611</td><td class='upgini-text'><a href='https://upgini.com' target='_blank' rel='noopener noreferrer'>Upgini</a></td><td class='upgini-text'>AutoFE: features from <a href='https://upgini.com/#data_sources' target='_blank' rel='noopener noreferrer'>Calendar data</a>,<a href='https://upgini.com/#data_sources' target='_blank' rel='noopener noreferrer'>Markets data</a></td><td class='upgini-text'>Daily</td></tr><tr><td class='upgini-text'>f_autofe_div_ba625fe9</td><td class='upgini-number'>0.0816</td><td class='upgini-number'>100.0000</td><td class='upgini-text'>-0.9035, -1.1759, -0.9943</td><td class='upgini-text'><a href='https://upgini.com' target='_blank' rel='noopener noreferrer'>Upgini</a></td><td class='upgini-text'>AutoFE: features from <a href='https://upgini.com/#data_sources' target='_blank' rel='noopener noreferrer'>Calendar data</a></td><td class='upgini-text'>Daily</td></tr><tr><td class='upgini-text'>f_autofe_mul_6a97c336</td><td class='upgini-number'>0.0808</td><td class='upgini-number'>100.0000</td><td class='upgini-text'>0.7713, 1.3197, -1.0099</td><td class='upgini-text'><a href='https://upgini.com' target='_blank' rel='noopener noreferrer'>Upgini</a></td><td class='upgini-text'>AutoFE: features from <a href='https://upgini.com/#data_sources' target='_blank' rel='noopener noreferrer'>Calendar data</a>,<a href='https://upgini.com/#data_sources' target='_blank' rel='noopener noreferrer'>Markets data</a></td><td class='upgini-text'>Daily</td></tr><tr><td class='upgini-text'>f_autofe_mul_041b52f4</td><td class='upgini-number'>0.0572</td><td class='upgini-number'>100.0000</td><td class='upgini-text'>-0.3996, -0.078, -0.0853</td><td class='upgini-text'><a href='https://upgini.com' target='_blank' rel='noopener noreferrer'>Upgini</a></td><td class='upgini-text'>AutoFE: features from <a href='https://upgini.com/#data_sources' target='_blank' rel='noopener noreferrer'>Calendar data</a></td><td class='upgini-text'>Daily</td></tr><tr><td class='upgini-text'>f_autofe_mul_0afc7563</td><td class='upgini-number'>0.0570</td><td class='upgini-number'>100.0000</td><td class='upgini-text'>-0.1827, 0.8315, -0.4204</td><td class='upgini-text'><a href='https://upgini.com' target='_blank' rel='noopener noreferrer'>Upgini</a></td><td class='upgini-text'>AutoFE: features from <a href='https://upgini.com/#data_sources' target='_blank' rel='noopener noreferrer'>Calendar data</a></td><td class='upgini-text'>Daily</td></tr><tr><td class='upgini-text'>f_autofe_mul_7fc70d87</td><td class='upgini-number'>0.0267</td><td class='upgini-number'>100.0000</td><td class='upgini-text'>-0.0829, 0.6143, -0.2095</td><td class='upgini-text'><a href='https://upgini.com' target='_blank' rel='noopener noreferrer'>Upgini</a></td><td class='upgini-text'>AutoFE: features from <a href='https://upgini.com/#data_sources' target='_blank' rel='noopener noreferrer'>Calendar data</a></td><td class='upgini-text'>Daily</td></tr><tr><td class='upgini-text'><a href='https://docs.upgini.com/public/calendar/calendar#f_events_date_year_cos1_9014a856' target='_blank' rel='noopener noreferrer'>f_events_date_year_cos1_9014a856</a></td><td class='upgini-number'>0.0089</td><td class='upgini-number'>100.0000</td><td class='upgini-text'>-0.805, -0.5197, 0.0559</td><td class='upgini-text'><a href='https://upgini.com' target='_blank' rel='noopener noreferrer'>Upgini</a></td><td class='upgini-text'><a href='https://upgini.com/#data_sources' target='_blank' rel='noopener noreferrer'>Calendar data</a></td><td class='upgini-text'>Daily</td></tr><tr><td class='upgini-text'><a href='https://docs.upgini.com/public/economics/cpi_umap#f_economic_date_cpi_umap_7_20d961e2' target='_blank' rel='noopener noreferrer'>f_economic_date_cpi_umap_7_20d961e2</a></td><td class='upgini-number'>0.0019</td><td class='upgini-number'>100.0000</td><td class='upgini-text'>-2.8865, -5.1397, 7.45</td><td class='upgini-text'><a href='https://upgini.com' target='_blank' rel='noopener noreferrer'>Upgini</a></td><td class='upgini-text'><a href='https://upgini.com/#data_sources' target='_blank' rel='noopener noreferrer'>World economic indicators</a></td><td class='upgini-text'>Daily</td></tr><tr><td class='upgini-text'><a href='https://docs.upgini.com/public/calendar/calendar#f_events_date_week_sin1_847b5db1' target='_blank' rel='noopener noreferrer'>f_events_date_week_sin1_847b5db1</a></td><td class='upgini-number'>0.0001</td><td class='upgini-number'>100.0000</td><td class='upgini-text'>0.9749, -0.7818, -0.7818</td><td class='upgini-text'><a href='https://upgini.com' target='_blank' rel='noopener noreferrer'>Upgini</a></td><td class='upgini-text'><a href='https://upgini.com/#data_sources' target='_blank' rel='noopener noreferrer'>Calendar data</a></td><td class='upgini-text'>Daily</td></tr><tr><td class='upgini-text'><a href='https://docs.upgini.com/public/calendar/calendar#f_events_date_week_sin2_e28440a5' target='_blank' rel='noopener noreferrer'>f_events_date_week_sin2_e28440a5</a></td><td class='upgini-number'>0.0001</td><td class='upgini-number'>100.0000</td><td class='upgini-text'>0.0, -0.9749, -0.7818</td><td class='upgini-text'><a href='https://upgini.com' target='_blank' rel='noopener noreferrer'>Upgini</a></td><td class='upgini-text'><a href='https://upgini.com/#data_sources' target='_blank' rel='noopener noreferrer'>Calendar data</a></td><td class='upgini-text'>Daily</td></tr><tr><td class='upgini-text'><a href='https://docs.upgini.com/public/calendar/calendar#f_events_date_year_sin1_3c44bc64' target='_blank' rel='noopener noreferrer'>f_events_date_year_sin1_3c44bc64</a></td><td class='upgini-number'>0.0001</td><td class='upgini-number'>100.0000</td><td class='upgini-text'>-0.4775, 0.6729, -0.9973</td><td class='upgini-text'><a href='https://upgini.com' target='_blank' rel='noopener noreferrer'>Upgini</a></td><td class='upgini-text'><a href='https://upgini.com/#data_sources' target='_blank' rel='noopener noreferrer'>Calendar data</a></td><td class='upgini-text'>Daily</td></tr></tbody></table>\n",
       "        </div>\n",
       "        "
      ],
      "text/plain": [
       "<IPython.core.display.HTML object>"
      ]
     },
     "metadata": {},
     "output_type": "display_data"
    },
    {
     "data": {
      "text/html": [
       "<style>\n",
       "            .upgini-df thead th {\n",
       "                font-weight:bold;\n",
       "                text-align: center;\n",
       "                padding: 0.5em;\n",
       "                border-bottom: 2px solid black;\n",
       "            }\n",
       "\n",
       "            .upgini-df tbody td {\n",
       "                padding: 0.5em;\n",
       "            }\n",
       "\n",
       "            .upgini-df tbody tr:nth-child(odd) {\n",
       "                background-color: #ffffff;\n",
       "            }\n",
       "\n",
       "            .upgini-df tbody tr:nth-child(even) {\n",
       "                background-color: #f2f2f2;\n",
       "            }\n",
       "\n",
       "            .upgini-text {\n",
       "                text-align: left;\n",
       "            }\n",
       "\n",
       "            .upgini-number {\n",
       "                text-align: center;\n",
       "            }\n",
       "        </style>\n",
       "        <h2>Relevant features</h2>\n",
       "        <div style=\"display:flex; flex-direction:column; align-items:flex-end; width: fit-content;\">\n",
       "            \n",
       "            <div style=\"text-align: right\">\n",
       "                <button onclick=navigator.clipboard.writeText(decodeURI('Provider%09Source%09All%20features%20SHAP%09Number%20of%20relevant%20features%0D%0AUpgini%09AutoFE%3A%20features%20from%20%3Ca%20href%3D%27https%3A%2F%2Fupgini.com%2F%23data_sources%27%20target%3D%27_blank%27%20rel%3D%27noopener%20noreferrer%27%3ECalendar%20data%3C%2Fa%3E,%3Ca%20href%3D%27https%3A%2F%2Fupgini.com%2F%23data_sources%27%20target%3D%27_blank%27%20rel%3D%27noopener%20noreferrer%27%3EMarkets%20data%3C%2Fa%3E%0911.3018%0923%0D%0AUpgini%09Calendar%20data%091.7548%094%0D%0AUpgini%09AutoFE%3A%20features%20from%20%3Ca%20href%3D%27https%3A%2F%2Fupgini.com%2F%23data_sources%27%20target%3D%27_blank%27%20rel%3D%27noopener%20noreferrer%27%3ECalendar%20data%3C%2Fa%3E%091.4208%098%0D%0AUpgini%09AutoFE%3A%20features%20from%20%3Ca%20href%3D%27https%3A%2F%2Fupgini.com%2F%23data_sources%27%20target%3D%27_blank%27%20rel%3D%27noopener%20noreferrer%27%3EMarkets%20data%3C%2Fa%3E%091.3385%093%0D%0AUpgini%09World%20economic%20indicators%090.1411%091%0D%0A'))>📂 Copy</button>\n",
       "                <a href='mailto:<Share with...>?subject=Relevant external data sources from Upgini.com&body=Provider%09Source%09All%20features%20SHAP%09Number%20of%20relevant%20features%0D%0AUpgini%09AutoFE%3A%20features%20from%20%3Ca%20href%3D%27https%3A%2F%2Fupgini.com%2F%23data_sources%27%20target%3D%27_blank%27%20rel%3D%27noopener%20noreferrer%27%3ECalendar%20data%3C%2Fa%3E,%3Ca%20href%3D%27https%3A%2F%2Fupgini.com%2F%23data_sources%27%20target%3D%27_blank%27%20rel%3D%27noopener%20noreferrer%27%3EMarkets%20data%3C%2Fa%3E%0911.3018%0923%0D%0AUpgini%09Calendar%20data%091.7548%094%0D%0AUpgini%09AutoFE%3A%20features%20from%20%3Ca%20href%3D%27https%3A%2F%2Fupgini.com%2F%23data_sources%27%20target%3D%27_blank%27%20rel%3D%27noopener%20noreferrer%27%3ECalendar%20data%3C%2Fa%3E%091.4208%098%0D%0AUpgini%09AutoFE%3A%20features%20from%20%3Ca%20href%3D%27https%3A%2F%2Fupgini.com%2F%23data_sources%27%20target%3D%27_blank%27%20rel%3D%27noopener%20noreferrer%27%3EMarkets%20data%3C%2Fa%3E%091.3385%093%0D%0AUpgini%09World%20economic%20indicators%090.1411%091%0D%0A'>\n",
       "                    <button>📨 Share</button>\n",
       "                </a>\n",
       "            </div>\n",
       "            <table class='upgini-df'><thead><th>Provider</th><th>Source</th><th>All features SHAP</th><th>Number of relevant features</th></thead><tbody><tr><td class='upgini-text'><a href='https://upgini.com' target='_blank' rel='noopener noreferrer'>Upgini</a></td><td class='upgini-text'>AutoFE: features from <a href='https://upgini.com/#data_sources' target='_blank' rel='noopener noreferrer'>Calendar data</a>,<a href='https://upgini.com/#data_sources' target='_blank' rel='noopener noreferrer'>Markets data</a></td><td class='upgini-number'>11.3018</td><td class='upgini-number'>23</td></tr><tr><td class='upgini-text'><a href='https://upgini.com' target='_blank' rel='noopener noreferrer'>Upgini</a></td><td class='upgini-text'>AutoFE: features from <a href='https://upgini.com/#data_sources' target='_blank' rel='noopener noreferrer'>Calendar data</a></td><td class='upgini-number'>1.4208</td><td class='upgini-number'>8</td></tr><tr><td class='upgini-text'><a href='https://upgini.com' target='_blank' rel='noopener noreferrer'>Upgini</a></td><td class='upgini-text'>AutoFE: features from <a href='https://upgini.com/#data_sources' target='_blank' rel='noopener noreferrer'>Markets data</a></td><td class='upgini-number'>1.3385</td><td class='upgini-number'>3</td></tr><tr><td class='upgini-text'><a href='https://upgini.com' target='_blank' rel='noopener noreferrer'>Upgini</a></td><td class='upgini-text'><a href='https://upgini.com/#data_sources' target='_blank' rel='noopener noreferrer'>Calendar data</a></td><td class='upgini-number'>0.0092</td><td class='upgini-number'>4</td></tr><tr><td class='upgini-text'><a href='https://upgini.com' target='_blank' rel='noopener noreferrer'>Upgini</a></td><td class='upgini-text'><a href='https://upgini.com/#data_sources' target='_blank' rel='noopener noreferrer'>World economic indicators</a></td><td class='upgini-number'>0.0019</td><td class='upgini-number'>1</td></tr></tbody></table>\n",
       "        </div>\n",
       "        "
      ],
      "text/plain": [
       "<IPython.core.display.HTML object>"
      ]
     },
     "metadata": {},
     "output_type": "display_data"
    },
    {
     "data": {
      "text/html": [
       "<style>\n",
       "            .upgini-df thead th {\n",
       "                font-weight:bold;\n",
       "                text-align: center;\n",
       "                padding: 0.5em;\n",
       "                border-bottom: 2px solid black;\n",
       "            }\n",
       "\n",
       "            .upgini-df tbody td {\n",
       "                padding: 0.5em;\n",
       "            }\n",
       "\n",
       "            .upgini-df tbody tr:nth-child(odd) {\n",
       "                background-color: #ffffff;\n",
       "            }\n",
       "\n",
       "            .upgini-df tbody tr:nth-child(even) {\n",
       "                background-color: #f2f2f2;\n",
       "            }\n",
       "\n",
       "            .upgini-text {\n",
       "                text-align: left;\n",
       "            }\n",
       "\n",
       "            .upgini-number {\n",
       "                text-align: center;\n",
       "            }\n",
       "        </style>\n",
       "        <h2>*Description of AutoFE feature names</h2>\n",
       "        <div style=\"display:flex; flex-direction:column; align-items:flex-end; width: fit-content;\">\n",
       "            \n",
       "            <div style=\"text-align: right\">\n",
       "                <button onclick=navigator.clipboard.writeText(decodeURI('Sources%09Feature%20name%09Feature%201%09Feature%202%09Function%0D%0A%3Ca%20href%3D%27https%3A%2F%2Fupgini.com%2F%23data_sources%27%20target%3D%27_blank%27%20rel%3D%27noopener%20noreferrer%27%3ECalendar%20data%3C%2Fa%3E,%3Ca%20href%3D%27https%3A%2F%2Fupgini.com%2F%23data_sources%27%20target%3D%27_blank%27%20rel%3D%27noopener%20noreferrer%27%3EMarkets%20data%3C%2Fa%3E%09f_autofe_mul_efd66bbe%09f_events_date_year_cos1_9014a856%09f_financial_date_vix_7d_to_1y_634c77eb%09%2A%0D%0A%3Ca%20href%3D%27https%3A%2F%2Fupgini.com%2F%23data_sources%27%20target%3D%27_blank%27%20rel%3D%27noopener%20noreferrer%27%3ECalendar%20data%3C%2Fa%3E,%3Ca%20href%3D%27https%3A%2F%2Fupgini.com%2F%23data_sources%27%20target%3D%27_blank%27%20rel%3D%27noopener%20noreferrer%27%3EMarkets%20data%3C%2Fa%3E%09f_autofe_div_1edd5009%09f_events_date_year_cos1_9014a856%09f_financial_date_vix_6c8e6194%09%2F%0D%0A%3Ca%20href%3D%27https%3A%2F%2Fupgini.com%2F%23data_sources%27%20target%3D%27_blank%27%20rel%3D%27noopener%20noreferrer%27%3ECalendar%20data%3C%2Fa%3E,%3Ca%20href%3D%27https%3A%2F%2Fupgini.com%2F%23data_sources%27%20target%3D%27_blank%27%20rel%3D%27noopener%20noreferrer%27%3EMarkets%20data%3C%2Fa%3E%09f_autofe_div_0a5adf97%09f_events_date_year_cos1_9014a856%09f_financial_date_natural_gas_92dac942%09%2F%0D%0A%3Ca%20href%3D%27https%3A%2F%2Fupgini.com%2F%23data_sources%27%20target%3D%27_blank%27%20rel%3D%27noopener%20noreferrer%27%3ECalendar%20data%3C%2Fa%3E,%3Ca%20href%3D%27https%3A%2F%2Fupgini.com%2F%23data_sources%27%20target%3D%27_blank%27%20rel%3D%27noopener%20noreferrer%27%3EMarkets%20data%3C%2Fa%3E%09f_autofe_div_cbf285e0%09f_events_date_year_cos1_9014a856%09f_financial_date_gold_7d_to_7d_1y_shift_a8127a43%09%2F%0D%0A%3Ca%20href%3D%27https%3A%2F%2Fupgini.com%2F%23data_sources%27%20target%3D%27_blank%27%20rel%3D%27noopener%20noreferrer%27%3ECalendar%20data%3C%2Fa%3E,%3Ca%20href%3D%27https%3A%2F%2Fupgini.com%2F%23data_sources%27%20target%3D%27_blank%27%20rel%3D%27noopener%20noreferrer%27%3EMarkets%20data%3C%2Fa%3E%09f_autofe_mul_34d11bc4%09f_events_date_year_cos1_9014a856%09f_financial_date_silver_e4e33014%09%2A%0D%0A%3Ca%20href%3D%27https%3A%2F%2Fupgini.com%2F%23data_sources%27%20target%3D%27_blank%27%20rel%3D%27noopener%20noreferrer%27%3ECalendar%20data%3C%2Fa%3E,%3Ca%20href%3D%27https%3A%2F%2Fupgini.com%2F%23data_sources%27%20target%3D%27_blank%27%20rel%3D%27noopener%20noreferrer%27%3EMarkets%20data%3C%2Fa%3E%09f_autofe_div_536f8702%09f_events_date_year_cos1_9014a856%09f_financial_date_natural_gas_7d_to_1y_7a6f300d%09%2F%0D%0A%3Ca%20href%3D%27https%3A%2F%2Fupgini.com%2F%23data_sources%27%20target%3D%27_blank%27%20rel%3D%27noopener%20noreferrer%27%3ECalendar%20data%3C%2Fa%3E,%3Ca%20href%3D%27https%3A%2F%2Fupgini.com%2F%23data_sources%27%20target%3D%27_blank%27%20rel%3D%27noopener%20noreferrer%27%3EMarkets%20data%3C%2Fa%3E%09f_autofe_div_0c0eef24%09f_events_date_week_cos3_7525fe31%09f_financial_date_gold_7d_to_7d_1y_shift_a8127a43%09%2F%0D%0A%3Ca%20href%3D%27https%3A%2F%2Fupgini.com%2F%23data_sources%27%20target%3D%27_blank%27%20rel%3D%27noopener%20noreferrer%27%3ECalendar%20data%3C%2Fa%3E,%3Ca%20href%3D%27https%3A%2F%2Fupgini.com%2F%23data_sources%27%20target%3D%27_blank%27%20rel%3D%27noopener%20noreferrer%27%3EMarkets%20data%3C%2Fa%3E%09f_autofe_div_cf5dd7be%09f_events_date_week_sin1_847b5db1%09f_financial_date_vix_7d_to_1y_634c77eb%09%2F%0D%0A%3Ca%20href%3D%27https%3A%2F%2Fupgini.com%2F%23data_sources%27%20target%3D%27_blank%27%20rel%3D%27noopener%20noreferrer%27%3ECalendar%20data%3C%2Fa%3E,%3Ca%20href%3D%27https%3A%2F%2Fupgini.com%2F%23data_sources%27%20target%3D%27_blank%27%20rel%3D%27noopener%20noreferrer%27%3EMarkets%20data%3C%2Fa%3E%09f_autofe_mul_89f64ca9%09f_events_date_week_sin1_847b5db1%09f_financial_date_natural_gas_7d_to_1y_7a6f300d%09%2A%0D%0A%3Ca%20href%3D%27https%3A%2F%2Fupgini.com%2F%23data_sources%27%20target%3D%27_blank%27%20rel%3D%27noopener%20noreferrer%27%3EMarkets%20data%3C%2Fa%3E%09f_autofe_div_0dcebab1%09f_financial_date_nasdaq_7d_to_1y_b00bfaa7%09f_financial_date_snp500_7d_to_1y_378b9f99%09%2F%0D%0A%3Ca%20href%3D%27https%3A%2F%2Fupgini.com%2F%23data_sources%27%20target%3D%27_blank%27%20rel%3D%27noopener%20noreferrer%27%3ECalendar%20data%3C%2Fa%3E,%3Ca%20href%3D%27https%3A%2F%2Fupgini.com%2F%23data_sources%27%20target%3D%27_blank%27%20rel%3D%27noopener%20noreferrer%27%3EMarkets%20data%3C%2Fa%3E%09f_autofe_div_3e22df83%09f_events_date_week_sin1_847b5db1%09f_financial_date_crude_oil_1f195998%09%2F%0D%0A%3Ca%20href%3D%27https%3A%2F%2Fupgini.com%2F%23data_sources%27%20target%3D%27_blank%27%20rel%3D%27noopener%20noreferrer%27%3ECalendar%20data%3C%2Fa%3E,%3Ca%20href%3D%27https%3A%2F%2Fupgini.com%2F%23data_sources%27%20target%3D%27_blank%27%20rel%3D%27noopener%20noreferrer%27%3EMarkets%20data%3C%2Fa%3E%09f_autofe_mul_25296268%09f_events_date_week_sin1_847b5db1%09f_financial_date_vix_7d_to_1y_634c77eb%09%2A%0D%0A%3Ca%20href%3D%27https%3A%2F%2Fupgini.com%2F%23data_sources%27%20target%3D%27_blank%27%20rel%3D%27noopener%20noreferrer%27%3EMarkets%20data%3C%2Fa%3E%09f_autofe_mul_b20799dd%09f_financial_date_gold_7d_to_7d_1y_shift_a8127a43%09f_financial_date_usd_7d_to_1y_9cbe7ef8%09%2A%0D%0A%3Ca%20href%3D%27https%3A%2F%2Fupgini.com%2F%23data_sources%27%20target%3D%27_blank%27%20rel%3D%27noopener%20noreferrer%27%3ECalendar%20data%3C%2Fa%3E,%3Ca%20href%3D%27https%3A%2F%2Fupgini.com%2F%23data_sources%27%20target%3D%27_blank%27%20rel%3D%27noopener%20noreferrer%27%3EMarkets%20data%3C%2Fa%3E%09f_autofe_div_04d9bc60%09f_events_date_week_sin1_847b5db1%09f_financial_date_gold_7d_to_7d_1y_shift_a8127a43%09%2F%0D%0A%3Ca%20href%3D%27https%3A%2F%2Fupgini.com%2F%23data_sources%27%20target%3D%27_blank%27%20rel%3D%27noopener%20noreferrer%27%3ECalendar%20data%3C%2Fa%3E,%3Ca%20href%3D%27https%3A%2F%2Fupgini.com%2F%23data_sources%27%20target%3D%27_blank%27%20rel%3D%27noopener%20noreferrer%27%3EMarkets%20data%3C%2Fa%3E%09f_autofe_mul_6a97c336%09f_events_date_week_cos1_f6a8c1fc%09f_financial_date_vix_7d_to_1y_634c77eb%09%2A%0D%0A%3Ca%20href%3D%27https%3A%2F%2Fupgini.com%2F%23data_sources%27%20target%3D%27_blank%27%20rel%3D%27noopener%20noreferrer%27%3ECalendar%20data%3C%2Fa%3E,%3Ca%20href%3D%27https%3A%2F%2Fupgini.com%2F%23data_sources%27%20target%3D%27_blank%27%20rel%3D%27noopener%20noreferrer%27%3EMarkets%20data%3C%2Fa%3E%09f_autofe_div_be97ee4f%09f_events_date_week_cos1_f6a8c1fc%09f_financial_date_gold_7d_to_7d_1y_shift_a8127a43%09%2F%0D%0A%3Ca%20href%3D%27https%3A%2F%2Fupgini.com%2F%23data_sources%27%20target%3D%27_blank%27%20rel%3D%27noopener%20noreferrer%27%3ECalendar%20data%3C%2Fa%3E,%3Ca%20href%3D%27https%3A%2F%2Fupgini.com%2F%23data_sources%27%20target%3D%27_blank%27%20rel%3D%27noopener%20noreferrer%27%3EMarkets%20data%3C%2Fa%3E%09f_autofe_div_86414197%09f_events_date_week_cos2_b0a07cfc%09f_financial_date_usd_eur_7d_to_7d_1y_shift_05302176%09%2F%0D%0A%3Ca%20href%3D%27https%3A%2F%2Fupgini.com%2F%23data_sources%27%20target%3D%27_blank%27%20rel%3D%27noopener%20noreferrer%27%3ECalendar%20data%3C%2Fa%3E,%3Ca%20href%3D%27https%3A%2F%2Fupgini.com%2F%23data_sources%27%20target%3D%27_blank%27%20rel%3D%27noopener%20noreferrer%27%3EMarkets%20data%3C%2Fa%3E%09f_autofe_div_3109d259%09f_events_date_week_sin1_847b5db1%09f_financial_date_stoxx_7d_to_1y_2ea815f4%09%2F%0D%0A%3Ca%20href%3D%27https%3A%2F%2Fupgini.com%2F%23data_sources%27%20target%3D%27_blank%27%20rel%3D%27noopener%20noreferrer%27%3ECalendar%20data%3C%2Fa%3E%09f_autofe_div_b97cf188%09f_events_date_week_cos3_7525fe31%09f_events_date_week_sin2_e28440a5%09%2F%0D%0A%3Ca%20href%3D%27https%3A%2F%2Fupgini.com%2F%23data_sources%27%20target%3D%27_blank%27%20rel%3D%27noopener%20noreferrer%27%3ECalendar%20data%3C%2Fa%3E%09f_autofe_div_ba625fe9%09f_events_date_week_sin1_847b5db1%09f_events_date_year_cos1_9014a856%09%2F%0D%0A%3Ca%20href%3D%27https%3A%2F%2Fupgini.com%2F%23data_sources%27%20target%3D%27_blank%27%20rel%3D%27noopener%20noreferrer%27%3EMarkets%20data%3C%2Fa%3E%09f_autofe_mul_5388a2c0%09f_financial_date_gold_7d_to_7d_1y_shift_a8127a43%09f_financial_date_natural_gas_7d_to_1y_7a6f300d%09%2A%0D%0A%3Ca%20href%3D%27https%3A%2F%2Fupgini.com%2F%23data_sources%27%20target%3D%27_blank%27%20rel%3D%27noopener%20noreferrer%27%3ECalendar%20data%3C%2Fa%3E,%3Ca%20href%3D%27https%3A%2F%2Fupgini.com%2F%23data_sources%27%20target%3D%27_blank%27%20rel%3D%27noopener%20noreferrer%27%3EMarkets%20data%3C%2Fa%3E%09f_autofe_mul_08e89348%09f_events_date_week_sin1_847b5db1%09f_financial_date_crude_oil_1f195998%09%2A%0D%0A%3Ca%20href%3D%27https%3A%2F%2Fupgini.com%2F%23data_sources%27%20target%3D%27_blank%27%20rel%3D%27noopener%20noreferrer%27%3ECalendar%20data%3C%2Fa%3E,%3Ca%20href%3D%27https%3A%2F%2Fupgini.com%2F%23data_sources%27%20target%3D%27_blank%27%20rel%3D%27noopener%20noreferrer%27%3EMarkets%20data%3C%2Fa%3E%09f_autofe_div_c855cf40%09f_events_date_week_cos1_f6a8c1fc%09f_financial_date_usd_7419609a%09%2F%0D%0A%3Ca%20href%3D%27https%3A%2F%2Fupgini.com%2F%23data_sources%27%20target%3D%27_blank%27%20rel%3D%27noopener%20noreferrer%27%3ECalendar%20data%3C%2Fa%3E,%3Ca%20href%3D%27https%3A%2F%2Fupgini.com%2F%23data_sources%27%20target%3D%27_blank%27%20rel%3D%27noopener%20noreferrer%27%3EMarkets%20data%3C%2Fa%3E%09f_autofe_mul_cd42199d%09f_events_date_week_cos3_7525fe31%09f_financial_date_natural_gas_92dac942%09%2A%0D%0A%3Ca%20href%3D%27https%3A%2F%2Fupgini.com%2F%23data_sources%27%20target%3D%27_blank%27%20rel%3D%27noopener%20noreferrer%27%3ECalendar%20data%3C%2Fa%3E%09f_autofe_mul_0afc7563%09f_events_date_week_sin1_847b5db1%09f_events_date_year_cos1_9014a856%09%2A%0D%0A%3Ca%20href%3D%27https%3A%2F%2Fupgini.com%2F%23data_sources%27%20target%3D%27_blank%27%20rel%3D%27noopener%20noreferrer%27%3ECalendar%20data%3C%2Fa%3E,%3Ca%20href%3D%27https%3A%2F%2Fupgini.com%2F%23data_sources%27%20target%3D%27_blank%27%20rel%3D%27noopener%20noreferrer%27%3EMarkets%20data%3C%2Fa%3E%09f_autofe_mul_b49258bb%09f_events_date_week_sin1_847b5db1%09f_financial_date_stoxx_043cbcd4%09%2A%0D%0A%3Ca%20href%3D%27https%3A%2F%2Fupgini.com%2F%23data_sources%27%20target%3D%27_blank%27%20rel%3D%27noopener%20noreferrer%27%3ECalendar%20data%3C%2Fa%3E,%3Ca%20href%3D%27https%3A%2F%2Fupgini.com%2F%23data_sources%27%20target%3D%27_blank%27%20rel%3D%27noopener%20noreferrer%27%3EMarkets%20data%3C%2Fa%3E%09f_autofe_mul_f1536543%09f_events_date_week_cos3_7525fe31%09f_financial_date_nasdaq_7d_to_1y_b00bfaa7%09%2A%0D%0A%3Ca%20href%3D%27https%3A%2F%2Fupgini.com%2F%23data_sources%27%20target%3D%27_blank%27%20rel%3D%27noopener%20noreferrer%27%3ECalendar%20data%3C%2Fa%3E,%3Ca%20href%3D%27https%3A%2F%2Fupgini.com%2F%23data_sources%27%20target%3D%27_blank%27%20rel%3D%27noopener%20noreferrer%27%3EMarkets%20data%3C%2Fa%3E%09f_autofe_mul_af6d166b%09f_events_date_week_cos3_7525fe31%09f_financial_date_vix_7d_to_1y_634c77eb%09%2A%0D%0A%3Ca%20href%3D%27https%3A%2F%2Fupgini.com%2F%23data_sources%27%20target%3D%27_blank%27%20rel%3D%27noopener%20noreferrer%27%3ECalendar%20data%3C%2Fa%3E%09f_autofe_mul_041b52f4%09f_events_date_week_sin1_847b5db1%09f_events_date_year_sin1_3c44bc64%09%2A%0D%0A%3Ca%20href%3D%27https%3A%2F%2Fupgini.com%2F%23data_sources%27%20target%3D%27_blank%27%20rel%3D%27noopener%20noreferrer%27%3ECalendar%20data%3C%2Fa%3E%09f_autofe_div_7eba89b2%09f_events_date_week_cos3_7525fe31%09f_events_date_week_sin1_847b5db1%09%2F%0D%0A%3Ca%20href%3D%27https%3A%2F%2Fupgini.com%2F%23data_sources%27%20target%3D%27_blank%27%20rel%3D%27noopener%20noreferrer%27%3ECalendar%20data%3C%2Fa%3E%09f_autofe_mul_4a9fa180%09f_events_date_year_cos1_9014a856%09f_events_date_year_sin2_59955ffd%09%2A%0D%0A%3Ca%20href%3D%27https%3A%2F%2Fupgini.com%2F%23data_sources%27%20target%3D%27_blank%27%20rel%3D%27noopener%20noreferrer%27%3ECalendar%20data%3C%2Fa%3E%09f_autofe_mul_5e57450d%09f_events_date_year_cos5_59183b20%09f_events_date_year_sin2_59955ffd%09%2A%0D%0A%3Ca%20href%3D%27https%3A%2F%2Fupgini.com%2F%23data_sources%27%20target%3D%27_blank%27%20rel%3D%27noopener%20noreferrer%27%3ECalendar%20data%3C%2Fa%3E%09f_autofe_mul_7fc70d87%09f_events_date_week_cos1_f6a8c1fc%09f_events_date_year_cos1_9014a856%09%2A%0D%0A%3Ca%20href%3D%27https%3A%2F%2Fupgini.com%2F%23data_sources%27%20target%3D%27_blank%27%20rel%3D%27noopener%20noreferrer%27%3ECalendar%20data%3C%2Fa%3E,%3Ca%20href%3D%27https%3A%2F%2Fupgini.com%2F%23data_sources%27%20target%3D%27_blank%27%20rel%3D%27noopener%20noreferrer%27%3EMarkets%20data%3C%2Fa%3E%09f_autofe_div_22b77c5b%09f_events_date_week_sin2_e28440a5%09f_financial_date_vix_7d_to_1y_634c77eb%09%2F%0D%0A'))>📂 Copy</button>\n",
       "                <a href='mailto:<Share with...>?subject=Relevant external data sources from Upgini.com&body=Sources%09Feature%20name%09Feature%201%09Feature%202%09Function%0D%0A%3Ca%20href%3D%27https%3A%2F%2Fupgini.com%2F%23data_sources%27%20target%3D%27_blank%27%20rel%3D%27noopener%20noreferrer%27%3ECalendar%20data%3C%2Fa%3E,%3Ca%20href%3D%27https%3A%2F%2Fupgini.com%2F%23data_sources%27%20target%3D%27_blank%27%20rel%3D%27noopener%20noreferrer%27%3EMarkets%20data%3C%2Fa%3E%09f_autofe_mul_efd66bbe%09f_events_date_year_cos1_9014a856%09f_financial_date_vix_7d_to_1y_634c77eb%09%2A%0D%0A%3Ca%20href%3D%27https%3A%2F%2Fupgini.com%2F%23data_sources%27%20target%3D%27_blank%27%20rel%3D%27noopener%20noreferrer%27%3ECalendar%20data%3C%2Fa%3E,%3Ca%20href%3D%27https%3A%2F%2Fupgini.com%2F%23data_sources%27%20target%3D%27_blank%27%20rel%3D%27noopener%20noreferrer%27%3EMarkets%20data%3C%2Fa%3E%09f_autofe_div_1edd5009%09f_events_date_year_cos1_9014a856%09f_financial_date_vix_6c8e6194%09%2F%0D%0A%3Ca%20href%3D%27https%3A%2F%2Fupgini.com%2F%23data_sources%27%20target%3D%27_blank%27%20rel%3D%27noopener%20noreferrer%27%3ECalendar%20data%3C%2Fa%3E,%3Ca%20href%3D%27https%3A%2F%2Fupgini.com%2F%23data_sources%27%20target%3D%27_blank%27%20rel%3D%27noopener%20noreferrer%27%3EMarkets%20data%3C%2Fa%3E%09f_autofe_div_0a5adf97%09f_events_date_year_cos1_9014a856%09f_financial_date_natural_gas_92dac942%09%2F%0D%0A%3Ca%20href%3D%27https%3A%2F%2Fupgini.com%2F%23data_sources%27%20target%3D%27_blank%27%20rel%3D%27noopener%20noreferrer%27%3ECalendar%20data%3C%2Fa%3E,%3Ca%20href%3D%27https%3A%2F%2Fupgini.com%2F%23data_sources%27%20target%3D%27_blank%27%20rel%3D%27noopener%20noreferrer%27%3EMarkets%20data%3C%2Fa%3E%09f_autofe_div_cbf285e0%09f_events_date_year_cos1_9014a856%09f_financial_date_gold_7d_to_7d_1y_shift_a8127a43%09%2F%0D%0A%3Ca%20href%3D%27https%3A%2F%2Fupgini.com%2F%23data_sources%27%20target%3D%27_blank%27%20rel%3D%27noopener%20noreferrer%27%3ECalendar%20data%3C%2Fa%3E,%3Ca%20href%3D%27https%3A%2F%2Fupgini.com%2F%23data_sources%27%20target%3D%27_blank%27%20rel%3D%27noopener%20noreferrer%27%3EMarkets%20data%3C%2Fa%3E%09f_autofe_mul_34d11bc4%09f_events_date_year_cos1_9014a856%09f_financial_date_silver_e4e33014%09%2A%0D%0A%3Ca%20href%3D%27https%3A%2F%2Fupgini.com%2F%23data_sources%27%20target%3D%27_blank%27%20rel%3D%27noopener%20noreferrer%27%3ECalendar%20data%3C%2Fa%3E,%3Ca%20href%3D%27https%3A%2F%2Fupgini.com%2F%23data_sources%27%20target%3D%27_blank%27%20rel%3D%27noopener%20noreferrer%27%3EMarkets%20data%3C%2Fa%3E%09f_autofe_div_536f8702%09f_events_date_year_cos1_9014a856%09f_financial_date_natural_gas_7d_to_1y_7a6f300d%09%2F%0D%0A%3Ca%20href%3D%27https%3A%2F%2Fupgini.com%2F%23data_sources%27%20target%3D%27_blank%27%20rel%3D%27noopener%20noreferrer%27%3ECalendar%20data%3C%2Fa%3E,%3Ca%20href%3D%27https%3A%2F%2Fupgini.com%2F%23data_sources%27%20target%3D%27_blank%27%20rel%3D%27noopener%20noreferrer%27%3EMarkets%20data%3C%2Fa%3E%09f_autofe_div_0c0eef24%09f_events_date_week_cos3_7525fe31%09f_financial_date_gold_7d_to_7d_1y_shift_a8127a43%09%2F%0D%0A%3Ca%20href%3D%27https%3A%2F%2Fupgini.com%2F%23data_sources%27%20target%3D%27_blank%27%20rel%3D%27noopener%20noreferrer%27%3ECalendar%20data%3C%2Fa%3E,%3Ca%20href%3D%27https%3A%2F%2Fupgini.com%2F%23data_sources%27%20target%3D%27_blank%27%20rel%3D%27noopener%20noreferrer%27%3EMarkets%20data%3C%2Fa%3E%09f_autofe_div_cf5dd7be%09f_events_date_week_sin1_847b5db1%09f_financial_date_vix_7d_to_1y_634c77eb%09%2F%0D%0A%3Ca%20href%3D%27https%3A%2F%2Fupgini.com%2F%23data_sources%27%20target%3D%27_blank%27%20rel%3D%27noopener%20noreferrer%27%3ECalendar%20data%3C%2Fa%3E,%3Ca%20href%3D%27https%3A%2F%2Fupgini.com%2F%23data_sources%27%20target%3D%27_blank%27%20rel%3D%27noopener%20noreferrer%27%3EMarkets%20data%3C%2Fa%3E%09f_autofe_mul_89f64ca9%09f_events_date_week_sin1_847b5db1%09f_financial_date_natural_gas_7d_to_1y_7a6f300d%09%2A%0D%0A%3Ca%20href%3D%27https%3A%2F%2Fupgini.com%2F%23data_sources%27%20target%3D%27_blank%27%20rel%3D%27noopener%20noreferrer%27%3EMarkets%20data%3C%2Fa%3E%09f_autofe_div_0dcebab1%09f_financial_date_nasdaq_7d_to_1y_b00bfaa7%09f_financial_date_snp500_7d_to_1y_378b9f99%09%2F%0D%0A%3Ca%20href%3D%27https%3A%2F%2Fupgini.com%2F%23data_sources%27%20target%3D%27_blank%27%20rel%3D%27noopener%20noreferrer%27%3ECalendar%20data%3C%2Fa%3E,%3Ca%20href%3D%27https%3A%2F%2Fupgini.com%2F%23data_sources%27%20target%3D%27_blank%27%20rel%3D%27noopener%20noreferrer%27%3EMarkets%20data%3C%2Fa%3E%09f_autofe_div_3e22df83%09f_events_date_week_sin1_847b5db1%09f_financial_date_crude_oil_1f195998%09%2F%0D%0A%3Ca%20href%3D%27https%3A%2F%2Fupgini.com%2F%23data_sources%27%20target%3D%27_blank%27%20rel%3D%27noopener%20noreferrer%27%3ECalendar%20data%3C%2Fa%3E,%3Ca%20href%3D%27https%3A%2F%2Fupgini.com%2F%23data_sources%27%20target%3D%27_blank%27%20rel%3D%27noopener%20noreferrer%27%3EMarkets%20data%3C%2Fa%3E%09f_autofe_mul_25296268%09f_events_date_week_sin1_847b5db1%09f_financial_date_vix_7d_to_1y_634c77eb%09%2A%0D%0A%3Ca%20href%3D%27https%3A%2F%2Fupgini.com%2F%23data_sources%27%20target%3D%27_blank%27%20rel%3D%27noopener%20noreferrer%27%3EMarkets%20data%3C%2Fa%3E%09f_autofe_mul_b20799dd%09f_financial_date_gold_7d_to_7d_1y_shift_a8127a43%09f_financial_date_usd_7d_to_1y_9cbe7ef8%09%2A%0D%0A%3Ca%20href%3D%27https%3A%2F%2Fupgini.com%2F%23data_sources%27%20target%3D%27_blank%27%20rel%3D%27noopener%20noreferrer%27%3ECalendar%20data%3C%2Fa%3E,%3Ca%20href%3D%27https%3A%2F%2Fupgini.com%2F%23data_sources%27%20target%3D%27_blank%27%20rel%3D%27noopener%20noreferrer%27%3EMarkets%20data%3C%2Fa%3E%09f_autofe_div_04d9bc60%09f_events_date_week_sin1_847b5db1%09f_financial_date_gold_7d_to_7d_1y_shift_a8127a43%09%2F%0D%0A%3Ca%20href%3D%27https%3A%2F%2Fupgini.com%2F%23data_sources%27%20target%3D%27_blank%27%20rel%3D%27noopener%20noreferrer%27%3ECalendar%20data%3C%2Fa%3E,%3Ca%20href%3D%27https%3A%2F%2Fupgini.com%2F%23data_sources%27%20target%3D%27_blank%27%20rel%3D%27noopener%20noreferrer%27%3EMarkets%20data%3C%2Fa%3E%09f_autofe_mul_6a97c336%09f_events_date_week_cos1_f6a8c1fc%09f_financial_date_vix_7d_to_1y_634c77eb%09%2A%0D%0A%3Ca%20href%3D%27https%3A%2F%2Fupgini.com%2F%23data_sources%27%20target%3D%27_blank%27%20rel%3D%27noopener%20noreferrer%27%3ECalendar%20data%3C%2Fa%3E,%3Ca%20href%3D%27https%3A%2F%2Fupgini.com%2F%23data_sources%27%20target%3D%27_blank%27%20rel%3D%27noopener%20noreferrer%27%3EMarkets%20data%3C%2Fa%3E%09f_autofe_div_be97ee4f%09f_events_date_week_cos1_f6a8c1fc%09f_financial_date_gold_7d_to_7d_1y_shift_a8127a43%09%2F%0D%0A%3Ca%20href%3D%27https%3A%2F%2Fupgini.com%2F%23data_sources%27%20target%3D%27_blank%27%20rel%3D%27noopener%20noreferrer%27%3ECalendar%20data%3C%2Fa%3E,%3Ca%20href%3D%27https%3A%2F%2Fupgini.com%2F%23data_sources%27%20target%3D%27_blank%27%20rel%3D%27noopener%20noreferrer%27%3EMarkets%20data%3C%2Fa%3E%09f_autofe_div_86414197%09f_events_date_week_cos2_b0a07cfc%09f_financial_date_usd_eur_7d_to_7d_1y_shift_05302176%09%2F%0D%0A%3Ca%20href%3D%27https%3A%2F%2Fupgini.com%2F%23data_sources%27%20target%3D%27_blank%27%20rel%3D%27noopener%20noreferrer%27%3ECalendar%20data%3C%2Fa%3E,%3Ca%20href%3D%27https%3A%2F%2Fupgini.com%2F%23data_sources%27%20target%3D%27_blank%27%20rel%3D%27noopener%20noreferrer%27%3EMarkets%20data%3C%2Fa%3E%09f_autofe_div_3109d259%09f_events_date_week_sin1_847b5db1%09f_financial_date_stoxx_7d_to_1y_2ea815f4%09%2F%0D%0A%3Ca%20href%3D%27https%3A%2F%2Fupgini.com%2F%23data_sources%27%20target%3D%27_blank%27%20rel%3D%27noopener%20noreferrer%27%3ECalendar%20data%3C%2Fa%3E%09f_autofe_div_b97cf188%09f_events_date_week_cos3_7525fe31%09f_events_date_week_sin2_e28440a5%09%2F%0D%0A%3Ca%20href%3D%27https%3A%2F%2Fupgini.com%2F%23data_sources%27%20target%3D%27_blank%27%20rel%3D%27noopener%20noreferrer%27%3ECalendar%20data%3C%2Fa%3E%09f_autofe_div_ba625fe9%09f_events_date_week_sin1_847b5db1%09f_events_date_year_cos1_9014a856%09%2F%0D%0A%3Ca%20href%3D%27https%3A%2F%2Fupgini.com%2F%23data_sources%27%20target%3D%27_blank%27%20rel%3D%27noopener%20noreferrer%27%3EMarkets%20data%3C%2Fa%3E%09f_autofe_mul_5388a2c0%09f_financial_date_gold_7d_to_7d_1y_shift_a8127a43%09f_financial_date_natural_gas_7d_to_1y_7a6f300d%09%2A%0D%0A%3Ca%20href%3D%27https%3A%2F%2Fupgini.com%2F%23data_sources%27%20target%3D%27_blank%27%20rel%3D%27noopener%20noreferrer%27%3ECalendar%20data%3C%2Fa%3E,%3Ca%20href%3D%27https%3A%2F%2Fupgini.com%2F%23data_sources%27%20target%3D%27_blank%27%20rel%3D%27noopener%20noreferrer%27%3EMarkets%20data%3C%2Fa%3E%09f_autofe_mul_08e89348%09f_events_date_week_sin1_847b5db1%09f_financial_date_crude_oil_1f195998%09%2A%0D%0A%3Ca%20href%3D%27https%3A%2F%2Fupgini.com%2F%23data_sources%27%20target%3D%27_blank%27%20rel%3D%27noopener%20noreferrer%27%3ECalendar%20data%3C%2Fa%3E,%3Ca%20href%3D%27https%3A%2F%2Fupgini.com%2F%23data_sources%27%20target%3D%27_blank%27%20rel%3D%27noopener%20noreferrer%27%3EMarkets%20data%3C%2Fa%3E%09f_autofe_div_c855cf40%09f_events_date_week_cos1_f6a8c1fc%09f_financial_date_usd_7419609a%09%2F%0D%0A%3Ca%20href%3D%27https%3A%2F%2Fupgini.com%2F%23data_sources%27%20target%3D%27_blank%27%20rel%3D%27noopener%20noreferrer%27%3ECalendar%20data%3C%2Fa%3E,%3Ca%20href%3D%27https%3A%2F%2Fupgini.com%2F%23data_sources%27%20target%3D%27_blank%27%20rel%3D%27noopener%20noreferrer%27%3EMarkets%20data%3C%2Fa%3E%09f_autofe_mul_cd42199d%09f_events_date_week_cos3_7525fe31%09f_financial_date_natural_gas_92dac942%09%2A%0D%0A%3Ca%20href%3D%27https%3A%2F%2Fupgini.com%2F%23data_sources%27%20target%3D%27_blank%27%20rel%3D%27noopener%20noreferrer%27%3ECalendar%20data%3C%2Fa%3E%09f_autofe_mul_0afc7563%09f_events_date_week_sin1_847b5db1%09f_events_date_year_cos1_9014a856%09%2A%0D%0A%3Ca%20href%3D%27https%3A%2F%2Fupgini.com%2F%23data_sources%27%20target%3D%27_blank%27%20rel%3D%27noopener%20noreferrer%27%3ECalendar%20data%3C%2Fa%3E,%3Ca%20href%3D%27https%3A%2F%2Fupgini.com%2F%23data_sources%27%20target%3D%27_blank%27%20rel%3D%27noopener%20noreferrer%27%3EMarkets%20data%3C%2Fa%3E%09f_autofe_mul_b49258bb%09f_events_date_week_sin1_847b5db1%09f_financial_date_stoxx_043cbcd4%09%2A%0D%0A%3Ca%20href%3D%27https%3A%2F%2Fupgini.com%2F%23data_sources%27%20target%3D%27_blank%27%20rel%3D%27noopener%20noreferrer%27%3ECalendar%20data%3C%2Fa%3E,%3Ca%20href%3D%27https%3A%2F%2Fupgini.com%2F%23data_sources%27%20target%3D%27_blank%27%20rel%3D%27noopener%20noreferrer%27%3EMarkets%20data%3C%2Fa%3E%09f_autofe_mul_f1536543%09f_events_date_week_cos3_7525fe31%09f_financial_date_nasdaq_7d_to_1y_b00bfaa7%09%2A%0D%0A%3Ca%20href%3D%27https%3A%2F%2Fupgini.com%2F%23data_sources%27%20target%3D%27_blank%27%20rel%3D%27noopener%20noreferrer%27%3ECalendar%20data%3C%2Fa%3E,%3Ca%20href%3D%27https%3A%2F%2Fupgini.com%2F%23data_sources%27%20target%3D%27_blank%27%20rel%3D%27noopener%20noreferrer%27%3EMarkets%20data%3C%2Fa%3E%09f_autofe_mul_af6d166b%09f_events_date_week_cos3_7525fe31%09f_financial_date_vix_7d_to_1y_634c77eb%09%2A%0D%0A%3Ca%20href%3D%27https%3A%2F%2Fupgini.com%2F%23data_sources%27%20target%3D%27_blank%27%20rel%3D%27noopener%20noreferrer%27%3ECalendar%20data%3C%2Fa%3E%09f_autofe_mul_041b52f4%09f_events_date_week_sin1_847b5db1%09f_events_date_year_sin1_3c44bc64%09%2A%0D%0A%3Ca%20href%3D%27https%3A%2F%2Fupgini.com%2F%23data_sources%27%20target%3D%27_blank%27%20rel%3D%27noopener%20noreferrer%27%3ECalendar%20data%3C%2Fa%3E%09f_autofe_div_7eba89b2%09f_events_date_week_cos3_7525fe31%09f_events_date_week_sin1_847b5db1%09%2F%0D%0A%3Ca%20href%3D%27https%3A%2F%2Fupgini.com%2F%23data_sources%27%20target%3D%27_blank%27%20rel%3D%27noopener%20noreferrer%27%3ECalendar%20data%3C%2Fa%3E%09f_autofe_mul_4a9fa180%09f_events_date_year_cos1_9014a856%09f_events_date_year_sin2_59955ffd%09%2A%0D%0A%3Ca%20href%3D%27https%3A%2F%2Fupgini.com%2F%23data_sources%27%20target%3D%27_blank%27%20rel%3D%27noopener%20noreferrer%27%3ECalendar%20data%3C%2Fa%3E%09f_autofe_mul_5e57450d%09f_events_date_year_cos5_59183b20%09f_events_date_year_sin2_59955ffd%09%2A%0D%0A%3Ca%20href%3D%27https%3A%2F%2Fupgini.com%2F%23data_sources%27%20target%3D%27_blank%27%20rel%3D%27noopener%20noreferrer%27%3ECalendar%20data%3C%2Fa%3E%09f_autofe_mul_7fc70d87%09f_events_date_week_cos1_f6a8c1fc%09f_events_date_year_cos1_9014a856%09%2A%0D%0A%3Ca%20href%3D%27https%3A%2F%2Fupgini.com%2F%23data_sources%27%20target%3D%27_blank%27%20rel%3D%27noopener%20noreferrer%27%3ECalendar%20data%3C%2Fa%3E,%3Ca%20href%3D%27https%3A%2F%2Fupgini.com%2F%23data_sources%27%20target%3D%27_blank%27%20rel%3D%27noopener%20noreferrer%27%3EMarkets%20data%3C%2Fa%3E%09f_autofe_div_22b77c5b%09f_events_date_week_sin2_e28440a5%09f_financial_date_vix_7d_to_1y_634c77eb%09%2F%0D%0A'>\n",
       "                    <button>📨 Share</button>\n",
       "                </a>\n",
       "            </div>\n",
       "            <table class='upgini-df'><thead><th>Sources</th><th>Feature name</th><th>Feature 1</th><th>Feature 2</th><th>Function</th></thead><tbody><tr><td class='upgini-text'><a href='https://upgini.com/#data_sources' target='_blank' rel='noopener noreferrer'>Calendar data</a>,<a href='https://upgini.com/#data_sources' target='_blank' rel='noopener noreferrer'>Markets data</a></td><td class='upgini-text'>f_autofe_mul_efd66bbe</td><td class='upgini-text'>f_events_date_year_cos1_9014a856</td><td class='upgini-text'>f_financial_date_vix_7d_to_1y_634c77eb</td><td class='upgini-text'>*</td></tr><tr><td class='upgini-text'><a href='https://upgini.com/#data_sources' target='_blank' rel='noopener noreferrer'>Calendar data</a>,<a href='https://upgini.com/#data_sources' target='_blank' rel='noopener noreferrer'>Markets data</a></td><td class='upgini-text'>f_autofe_div_1edd5009</td><td class='upgini-text'>f_events_date_year_cos1_9014a856</td><td class='upgini-text'>f_financial_date_vix_6c8e6194</td><td class='upgini-text'>/</td></tr><tr><td class='upgini-text'><a href='https://upgini.com/#data_sources' target='_blank' rel='noopener noreferrer'>Calendar data</a>,<a href='https://upgini.com/#data_sources' target='_blank' rel='noopener noreferrer'>Markets data</a></td><td class='upgini-text'>f_autofe_div_0a5adf97</td><td class='upgini-text'>f_events_date_year_cos1_9014a856</td><td class='upgini-text'>f_financial_date_natural_gas_92dac942</td><td class='upgini-text'>/</td></tr><tr><td class='upgini-text'><a href='https://upgini.com/#data_sources' target='_blank' rel='noopener noreferrer'>Calendar data</a>,<a href='https://upgini.com/#data_sources' target='_blank' rel='noopener noreferrer'>Markets data</a></td><td class='upgini-text'>f_autofe_div_cbf285e0</td><td class='upgini-text'>f_events_date_year_cos1_9014a856</td><td class='upgini-text'>f_financial_date_gold_7d_to_7d_1y_shift_a8127a43</td><td class='upgini-text'>/</td></tr><tr><td class='upgini-text'><a href='https://upgini.com/#data_sources' target='_blank' rel='noopener noreferrer'>Calendar data</a>,<a href='https://upgini.com/#data_sources' target='_blank' rel='noopener noreferrer'>Markets data</a></td><td class='upgini-text'>f_autofe_mul_34d11bc4</td><td class='upgini-text'>f_events_date_year_cos1_9014a856</td><td class='upgini-text'>f_financial_date_silver_e4e33014</td><td class='upgini-text'>*</td></tr><tr><td class='upgini-text'><a href='https://upgini.com/#data_sources' target='_blank' rel='noopener noreferrer'>Calendar data</a>,<a href='https://upgini.com/#data_sources' target='_blank' rel='noopener noreferrer'>Markets data</a></td><td class='upgini-text'>f_autofe_div_536f8702</td><td class='upgini-text'>f_events_date_year_cos1_9014a856</td><td class='upgini-text'>f_financial_date_natural_gas_7d_to_1y_7a6f300d</td><td class='upgini-text'>/</td></tr><tr><td class='upgini-text'><a href='https://upgini.com/#data_sources' target='_blank' rel='noopener noreferrer'>Calendar data</a>,<a href='https://upgini.com/#data_sources' target='_blank' rel='noopener noreferrer'>Markets data</a></td><td class='upgini-text'>f_autofe_div_0c0eef24</td><td class='upgini-text'>f_events_date_week_cos3_7525fe31</td><td class='upgini-text'>f_financial_date_gold_7d_to_7d_1y_shift_a8127a43</td><td class='upgini-text'>/</td></tr><tr><td class='upgini-text'><a href='https://upgini.com/#data_sources' target='_blank' rel='noopener noreferrer'>Calendar data</a>,<a href='https://upgini.com/#data_sources' target='_blank' rel='noopener noreferrer'>Markets data</a></td><td class='upgini-text'>f_autofe_div_cf5dd7be</td><td class='upgini-text'>f_events_date_week_sin1_847b5db1</td><td class='upgini-text'>f_financial_date_vix_7d_to_1y_634c77eb</td><td class='upgini-text'>/</td></tr><tr><td class='upgini-text'><a href='https://upgini.com/#data_sources' target='_blank' rel='noopener noreferrer'>Calendar data</a>,<a href='https://upgini.com/#data_sources' target='_blank' rel='noopener noreferrer'>Markets data</a></td><td class='upgini-text'>f_autofe_mul_89f64ca9</td><td class='upgini-text'>f_events_date_week_sin1_847b5db1</td><td class='upgini-text'>f_financial_date_natural_gas_7d_to_1y_7a6f300d</td><td class='upgini-text'>*</td></tr><tr><td class='upgini-text'><a href='https://upgini.com/#data_sources' target='_blank' rel='noopener noreferrer'>Markets data</a></td><td class='upgini-text'>f_autofe_div_0dcebab1</td><td class='upgini-text'>f_financial_date_nasdaq_7d_to_1y_b00bfaa7</td><td class='upgini-text'>f_financial_date_snp500_7d_to_1y_378b9f99</td><td class='upgini-text'>/</td></tr><tr><td class='upgini-text'><a href='https://upgini.com/#data_sources' target='_blank' rel='noopener noreferrer'>Calendar data</a>,<a href='https://upgini.com/#data_sources' target='_blank' rel='noopener noreferrer'>Markets data</a></td><td class='upgini-text'>f_autofe_div_3e22df83</td><td class='upgini-text'>f_events_date_week_sin1_847b5db1</td><td class='upgini-text'>f_financial_date_crude_oil_1f195998</td><td class='upgini-text'>/</td></tr><tr><td class='upgini-text'><a href='https://upgini.com/#data_sources' target='_blank' rel='noopener noreferrer'>Calendar data</a>,<a href='https://upgini.com/#data_sources' target='_blank' rel='noopener noreferrer'>Markets data</a></td><td class='upgini-text'>f_autofe_mul_25296268</td><td class='upgini-text'>f_events_date_week_sin1_847b5db1</td><td class='upgini-text'>f_financial_date_vix_7d_to_1y_634c77eb</td><td class='upgini-text'>*</td></tr><tr><td class='upgini-text'><a href='https://upgini.com/#data_sources' target='_blank' rel='noopener noreferrer'>Markets data</a></td><td class='upgini-text'>f_autofe_mul_b20799dd</td><td class='upgini-text'>f_financial_date_gold_7d_to_7d_1y_shift_a8127a43</td><td class='upgini-text'>f_financial_date_usd_7d_to_1y_9cbe7ef8</td><td class='upgini-text'>*</td></tr><tr><td class='upgini-text'><a href='https://upgini.com/#data_sources' target='_blank' rel='noopener noreferrer'>Calendar data</a>,<a href='https://upgini.com/#data_sources' target='_blank' rel='noopener noreferrer'>Markets data</a></td><td class='upgini-text'>f_autofe_div_04d9bc60</td><td class='upgini-text'>f_events_date_week_sin1_847b5db1</td><td class='upgini-text'>f_financial_date_gold_7d_to_7d_1y_shift_a8127a43</td><td class='upgini-text'>/</td></tr><tr><td class='upgini-text'><a href='https://upgini.com/#data_sources' target='_blank' rel='noopener noreferrer'>Calendar data</a>,<a href='https://upgini.com/#data_sources' target='_blank' rel='noopener noreferrer'>Markets data</a></td><td class='upgini-text'>f_autofe_mul_6a97c336</td><td class='upgini-text'>f_events_date_week_cos1_f6a8c1fc</td><td class='upgini-text'>f_financial_date_vix_7d_to_1y_634c77eb</td><td class='upgini-text'>*</td></tr><tr><td class='upgini-text'><a href='https://upgini.com/#data_sources' target='_blank' rel='noopener noreferrer'>Calendar data</a>,<a href='https://upgini.com/#data_sources' target='_blank' rel='noopener noreferrer'>Markets data</a></td><td class='upgini-text'>f_autofe_div_be97ee4f</td><td class='upgini-text'>f_events_date_week_cos1_f6a8c1fc</td><td class='upgini-text'>f_financial_date_gold_7d_to_7d_1y_shift_a8127a43</td><td class='upgini-text'>/</td></tr><tr><td class='upgini-text'><a href='https://upgini.com/#data_sources' target='_blank' rel='noopener noreferrer'>Calendar data</a>,<a href='https://upgini.com/#data_sources' target='_blank' rel='noopener noreferrer'>Markets data</a></td><td class='upgini-text'>f_autofe_div_86414197</td><td class='upgini-text'>f_events_date_week_cos2_b0a07cfc</td><td class='upgini-text'>f_financial_date_usd_eur_7d_to_7d_1y_shift_05302176</td><td class='upgini-text'>/</td></tr><tr><td class='upgini-text'><a href='https://upgini.com/#data_sources' target='_blank' rel='noopener noreferrer'>Calendar data</a>,<a href='https://upgini.com/#data_sources' target='_blank' rel='noopener noreferrer'>Markets data</a></td><td class='upgini-text'>f_autofe_div_3109d259</td><td class='upgini-text'>f_events_date_week_sin1_847b5db1</td><td class='upgini-text'>f_financial_date_stoxx_7d_to_1y_2ea815f4</td><td class='upgini-text'>/</td></tr><tr><td class='upgini-text'><a href='https://upgini.com/#data_sources' target='_blank' rel='noopener noreferrer'>Calendar data</a></td><td class='upgini-text'>f_autofe_div_b97cf188</td><td class='upgini-text'>f_events_date_week_cos3_7525fe31</td><td class='upgini-text'>f_events_date_week_sin2_e28440a5</td><td class='upgini-text'>/</td></tr><tr><td class='upgini-text'><a href='https://upgini.com/#data_sources' target='_blank' rel='noopener noreferrer'>Calendar data</a></td><td class='upgini-text'>f_autofe_div_ba625fe9</td><td class='upgini-text'>f_events_date_week_sin1_847b5db1</td><td class='upgini-text'>f_events_date_year_cos1_9014a856</td><td class='upgini-text'>/</td></tr><tr><td class='upgini-text'><a href='https://upgini.com/#data_sources' target='_blank' rel='noopener noreferrer'>Markets data</a></td><td class='upgini-text'>f_autofe_mul_5388a2c0</td><td class='upgini-text'>f_financial_date_gold_7d_to_7d_1y_shift_a8127a43</td><td class='upgini-text'>f_financial_date_natural_gas_7d_to_1y_7a6f300d</td><td class='upgini-text'>*</td></tr><tr><td class='upgini-text'><a href='https://upgini.com/#data_sources' target='_blank' rel='noopener noreferrer'>Calendar data</a>,<a href='https://upgini.com/#data_sources' target='_blank' rel='noopener noreferrer'>Markets data</a></td><td class='upgini-text'>f_autofe_mul_08e89348</td><td class='upgini-text'>f_events_date_week_sin1_847b5db1</td><td class='upgini-text'>f_financial_date_crude_oil_1f195998</td><td class='upgini-text'>*</td></tr><tr><td class='upgini-text'><a href='https://upgini.com/#data_sources' target='_blank' rel='noopener noreferrer'>Calendar data</a>,<a href='https://upgini.com/#data_sources' target='_blank' rel='noopener noreferrer'>Markets data</a></td><td class='upgini-text'>f_autofe_div_c855cf40</td><td class='upgini-text'>f_events_date_week_cos1_f6a8c1fc</td><td class='upgini-text'>f_financial_date_usd_7419609a</td><td class='upgini-text'>/</td></tr><tr><td class='upgini-text'><a href='https://upgini.com/#data_sources' target='_blank' rel='noopener noreferrer'>Calendar data</a>,<a href='https://upgini.com/#data_sources' target='_blank' rel='noopener noreferrer'>Markets data</a></td><td class='upgini-text'>f_autofe_mul_cd42199d</td><td class='upgini-text'>f_events_date_week_cos3_7525fe31</td><td class='upgini-text'>f_financial_date_natural_gas_92dac942</td><td class='upgini-text'>*</td></tr><tr><td class='upgini-text'><a href='https://upgini.com/#data_sources' target='_blank' rel='noopener noreferrer'>Calendar data</a></td><td class='upgini-text'>f_autofe_mul_0afc7563</td><td class='upgini-text'>f_events_date_week_sin1_847b5db1</td><td class='upgini-text'>f_events_date_year_cos1_9014a856</td><td class='upgini-text'>*</td></tr><tr><td class='upgini-text'><a href='https://upgini.com/#data_sources' target='_blank' rel='noopener noreferrer'>Calendar data</a>,<a href='https://upgini.com/#data_sources' target='_blank' rel='noopener noreferrer'>Markets data</a></td><td class='upgini-text'>f_autofe_mul_b49258bb</td><td class='upgini-text'>f_events_date_week_sin1_847b5db1</td><td class='upgini-text'>f_financial_date_stoxx_043cbcd4</td><td class='upgini-text'>*</td></tr><tr><td class='upgini-text'><a href='https://upgini.com/#data_sources' target='_blank' rel='noopener noreferrer'>Calendar data</a>,<a href='https://upgini.com/#data_sources' target='_blank' rel='noopener noreferrer'>Markets data</a></td><td class='upgini-text'>f_autofe_mul_f1536543</td><td class='upgini-text'>f_events_date_week_cos3_7525fe31</td><td class='upgini-text'>f_financial_date_nasdaq_7d_to_1y_b00bfaa7</td><td class='upgini-text'>*</td></tr><tr><td class='upgini-text'><a href='https://upgini.com/#data_sources' target='_blank' rel='noopener noreferrer'>Calendar data</a>,<a href='https://upgini.com/#data_sources' target='_blank' rel='noopener noreferrer'>Markets data</a></td><td class='upgini-text'>f_autofe_mul_af6d166b</td><td class='upgini-text'>f_events_date_week_cos3_7525fe31</td><td class='upgini-text'>f_financial_date_vix_7d_to_1y_634c77eb</td><td class='upgini-text'>*</td></tr><tr><td class='upgini-text'><a href='https://upgini.com/#data_sources' target='_blank' rel='noopener noreferrer'>Calendar data</a></td><td class='upgini-text'>f_autofe_mul_041b52f4</td><td class='upgini-text'>f_events_date_week_sin1_847b5db1</td><td class='upgini-text'>f_events_date_year_sin1_3c44bc64</td><td class='upgini-text'>*</td></tr><tr><td class='upgini-text'><a href='https://upgini.com/#data_sources' target='_blank' rel='noopener noreferrer'>Calendar data</a></td><td class='upgini-text'>f_autofe_div_7eba89b2</td><td class='upgini-text'>f_events_date_week_cos3_7525fe31</td><td class='upgini-text'>f_events_date_week_sin1_847b5db1</td><td class='upgini-text'>/</td></tr><tr><td class='upgini-text'><a href='https://upgini.com/#data_sources' target='_blank' rel='noopener noreferrer'>Calendar data</a></td><td class='upgini-text'>f_autofe_mul_4a9fa180</td><td class='upgini-text'>f_events_date_year_cos1_9014a856</td><td class='upgini-text'>f_events_date_year_sin2_59955ffd</td><td class='upgini-text'>*</td></tr><tr><td class='upgini-text'><a href='https://upgini.com/#data_sources' target='_blank' rel='noopener noreferrer'>Calendar data</a></td><td class='upgini-text'>f_autofe_mul_5e57450d</td><td class='upgini-text'>f_events_date_year_cos5_59183b20</td><td class='upgini-text'>f_events_date_year_sin2_59955ffd</td><td class='upgini-text'>*</td></tr><tr><td class='upgini-text'><a href='https://upgini.com/#data_sources' target='_blank' rel='noopener noreferrer'>Calendar data</a></td><td class='upgini-text'>f_autofe_mul_7fc70d87</td><td class='upgini-text'>f_events_date_week_cos1_f6a8c1fc</td><td class='upgini-text'>f_events_date_year_cos1_9014a856</td><td class='upgini-text'>*</td></tr><tr><td class='upgini-text'><a href='https://upgini.com/#data_sources' target='_blank' rel='noopener noreferrer'>Calendar data</a>,<a href='https://upgini.com/#data_sources' target='_blank' rel='noopener noreferrer'>Markets data</a></td><td class='upgini-text'>f_autofe_div_22b77c5b</td><td class='upgini-text'>f_events_date_week_sin2_e28440a5</td><td class='upgini-text'>f_financial_date_vix_7d_to_1y_634c77eb</td><td class='upgini-text'>/</td></tr></tbody></table>\n",
       "        </div>\n",
       "        "
      ],
      "text/plain": [
       "<IPython.core.display.HTML object>"
      ]
     },
     "metadata": {},
     "output_type": "display_data"
    },
    {
     "name": "stdout",
     "output_type": "stream",
     "text": [
      "We detected 64 outliers in your sample.\n",
      "Examples of outliers with maximum value of target:\n",
      "45    205\n",
      "25    196\n",
      "60    180\n",
      "Name: target, dtype: int64\n",
      "Outliers will be excluded during the metrics calculation.\n",
      "Calculating accuracy uplift after enrichment...\n",
      "y distributions from the training sample and eval_set differ according to the Kolmogorov-Smirnov test,\n",
      "which makes metrics between the train and eval_set incomparable.\n",
      "/\r"
     ]
    },
    {
     "data": {
      "text/html": [
       "<style>\n",
       "            .upgini-df thead th {\n",
       "                font-weight:bold;\n",
       "                text-align: center;\n",
       "                padding: 0.5em;\n",
       "                border-bottom: 2px solid black;\n",
       "            }\n",
       "\n",
       "            .upgini-df tbody td {\n",
       "                padding: 0.5em;\n",
       "            }\n",
       "\n",
       "            .upgini-df tbody tr:nth-child(odd) {\n",
       "                background-color: #ffffff;\n",
       "            }\n",
       "\n",
       "            .upgini-df tbody tr:nth-child(even) {\n",
       "                background-color: #f2f2f2;\n",
       "            }\n",
       "\n",
       "            .upgini-text {\n",
       "                text-align: left;\n",
       "            }\n",
       "\n",
       "            .upgini-number {\n",
       "                text-align: center;\n",
       "            }\n",
       "        </style>\n",
       "        <h2>Accuracy after enrichment</h2>\n",
       "        <div style=\"display:flex; flex-direction:column; align-items:flex-end; width: fit-content;\">\n",
       "            \n",
       "            <div style=\"text-align: right\">\n",
       "                <button onclick=navigator.clipboard.writeText(decodeURI('Dataset%20type%09Rows%09Mean%20target%09Baseline%20mean_squared_error%09Enriched%20mean_squared_error%09Uplift%0D%0ATrain%099578%0950.2328%09306.98502895644424%09233.15610773190116%0973.82892122454308%0D%0AEval%201%092422%0959.6908%09501.9798802859797%09423.4477853688712%0978.53209491710845%0D%0A'))>📂 Copy</button>\n",
       "                <a href='mailto:<Share with...>?subject=Relevant external data sources from Upgini.com&body=Dataset%20type%09Rows%09Mean%20target%09Baseline%20mean_squared_error%09Enriched%20mean_squared_error%09Uplift%0D%0ATrain%099578%0950.2328%09306.98502895644424%09233.15610773190116%0973.82892122454308%0D%0AEval%201%092422%0959.6908%09501.9798802859797%09423.4477853688712%0978.53209491710845%0D%0A'>\n",
       "                    <button>📨 Share</button>\n",
       "                </a>\n",
       "            </div>\n",
       "            <table class='upgini-df'><thead><th>Dataset type</th><th>Rows</th><th>Mean target</th><th>Baseline mean_squared_error</th><th>Enriched mean_squared_error</th><th>Uplift</th></thead><tbody><tr><td class='upgini-text'>Train</td><td class='upgini-number'>9578</td><td class='upgini-number'>50.2328</td><td class='upgini-number'>306.9850</td><td class='upgini-number'>233.1561</td><td class='upgini-number'>73.8289</td></tr><tr><td class='upgini-text'>Eval 1</td><td class='upgini-number'>2422</td><td class='upgini-number'>59.6908</td><td class='upgini-number'>501.9799</td><td class='upgini-number'>423.4478</td><td class='upgini-number'>78.5321</td></tr></tbody></table>\n",
       "        </div>\n",
       "        "
      ],
      "text/plain": [
       "<IPython.core.display.HTML object>"
      ]
     },
     "metadata": {},
     "output_type": "display_data"
    }
   ],
   "source": [
    "from upgini import FeaturesEnricher, SearchKey\n",
    "from upgini.metadata import CVType\n",
    "\n",
    "enricher = FeaturesEnricher(\n",
    "    search_keys= {\n",
    "        \"date\": SearchKey.DATE,\n",
    "    },\n",
    "    cv = CVType.time_series\n",
    ")\n",
    "enricher.fit(train_features, train_target, \n",
    "             eval_set = [(test_features, test_target)])"
   ]
  },
  {
   "cell_type": "code",
   "execution_count": 31,
   "id": "470fcb7f",
   "metadata": {},
   "outputs": [],
   "source": [
    "from catboost import CatBoostRegressor\n",
    "from catboost.utils import eval_metric\n",
    "\n",
    "model = CatBoostRegressor(verbose=False, allow_writing_files=False, random_state=0)"
   ]
  },
  {
   "cell_type": "code",
   "execution_count": null,
   "id": "1894e984",
   "metadata": {},
   "outputs": [],
   "source": []
  }
 ],
 "metadata": {
  "kernelspec": {
   "display_name": "base",
   "language": "python",
   "name": "python3"
  },
  "language_info": {
   "codemirror_mode": {
    "name": "ipython",
    "version": 3
   },
   "file_extension": ".py",
   "mimetype": "text/x-python",
   "name": "python",
   "nbconvert_exporter": "python",
   "pygments_lexer": "ipython3",
   "version": "3.10.9"
  }
 },
 "nbformat": 4,
 "nbformat_minor": 5
}
