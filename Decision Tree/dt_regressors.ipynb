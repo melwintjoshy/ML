{
 "cells": [
  {
   "cell_type": "markdown",
   "metadata": {},
   "source": [
    "# Building Decision Tree regressors"
   ]
  },
  {
   "cell_type": "markdown",
   "metadata": {},
   "source": [
    "In the case of a regressor, if at leaf node, we have 3 values say, 8, 10, 12. During testing, if an instance lands on this leaf node, regressor will predict its value to be the mean of 3 values, here 10."
   ]
  },
  {
   "cell_type": "markdown",
   "metadata": {},
   "source": [
    "For each possible split at training time, the tree calculates either __MEAN_SQUARED_ERROR__ (L2) OR __MEAN_ABSOLUTE_ERROR__ (L1) for each of the expected sub groups after the split. A split with minimum L1 or L2 is then chosen at this step. \n",
    "\n",
    "Note : L1 uses median and L2 uses mean in its calculations. L1 is better in dealing with outliers as it uses median. "
   ]
  },
  {
   "cell_type": "code",
   "execution_count": null,
   "metadata": {
    "vscode": {
     "languageId": "plaintext"
    }
   },
   "outputs": [],
   "source": []
  }
 ],
 "metadata": {
  "language_info": {
   "name": "python"
  }
 },
 "nbformat": 4,
 "nbformat_minor": 2
}
